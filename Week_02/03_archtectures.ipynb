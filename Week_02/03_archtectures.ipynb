{
 "cells": [
  {
   "cell_type": "markdown",
   "metadata": {
    "id": "zwBCE43Cv3PH"
   },
   "source": [
    "# Gestructureerde data: Complexere architecturen"
   ]
  },
  {
   "cell_type": "markdown",
   "metadata": {},
   "source": [
    "In de voorgaande onderdelen heb je reeds gemerkt dat het verwerken van de input in het geval van gestructureerde data kan leiden tot een complexere netwerkarchitectuur.\n",
    "In deze notebook gaan we dit in meer detail bestuderen en ook kijken naar de mogelijkheden aan de output-kant van het netwerk."
   ]
  },
  {
   "cell_type": "markdown",
   "metadata": {},
   "source": [
    "## Multi-modal modellen (meerdere inputs combineren voor 1 output)\n",
    "\n",
    "Een multi-modal neuraal netwerk is een netwerk dat leert van meerdere soorten data (modaliteiten) tegelijk. Modaliteiten kunnen bijvoorbeeld zijn:\n",
    "\n",
    "* Gestructureerde data (sensorwaarden, tabellen, tijdreeksen)\n",
    "* Beelden (RGB-foto's, video frames)\n",
    "* Tekst (reviews, captions, transcripties)\n",
    "* Audio (spraak, muziek)\n",
    "\n",
    "Het doel is om de informatie uit verschillende bronnen te combineren zodat het model betere prestaties kan leveren dan wanneer je slechts één modaliteit gebruikt.\n",
    "\n",
    "Elke modaliteit heeft vaak een gespecialiseerde encoder:\n",
    "| Modaliteit    | Veelgebruikte encoders                               |\n",
    "| ------------- | ---------------------------------------------------- |\n",
    "| Gestructureerde | Fully connected layers, tabular transformers         |\n",
    "| Beeld         | CNN (ResNet, EfficientNet), ViT (Vision Transformer) |\n",
    "| Tekst         | RNN, LSTM, GRU, Transformers (BERT, GPT)             |\n",
    "| Audio         | 1D-CNN, spectrogram + 2D-CNN, Wav2Vec                |\n",
    "\n",
    "Er zijn verschillende manieren om features van de verscheidene modaliteiten te combineren:\n",
    "\n",
    "* Early fusion: De ruwe data wordt gecombineerd vóór het netwerk (vaak lastig bij verschillende soorten data).\n",
    "* Intermediate fusion: Features van verschillende subnetwerken worden gecombineerd in een middenlaag (meest gebruikelijk).\n",
    "* Late fusion: Elke modaliteit geeft een voorspelling en die worden gecombineerd (bijv. gemiddelde, gewogen gemiddelde, of meta-classifier). Dit lijkt op de klassieke ensemble technieken die we vorig jaar gezien hebben.\n",
    "\n",
    "Met pytorch ziet dit eruit als volgt:"
   ]
  },
  {
   "cell_type": "code",
   "execution_count": null,
   "metadata": {},
   "outputs": [],
   "source": []
  },
  {
   "cell_type": "markdown",
   "metadata": {},
   "source": [
    "Met de functial API van Keras ziet dit er dan uit als volgt"
   ]
  },
  {
   "cell_type": "code",
   "execution_count": null,
   "metadata": {},
   "outputs": [],
   "source": []
  },
  {
   "cell_type": "markdown",
   "metadata": {},
   "source": [
    "## Multi-task/output/head model\n",
    "\n",
    "Een multi-task neuraal netwerk is een netwerk dat meerdere gerelateerde taken tegelijk leert. In plaats van voor elke taak een afzonderlijk netwerk te trainen, wordt één netwerk gedeeld over taken. Dit kan leiden tot betere generalisatie, omdat het netwerk gedeelde representaties leert die nuttig zijn voor meerdere taken.\n",
    "\n",
    "Voorbeelden van multi-task learning:\n",
    "\n",
    "* Gezichtsherkenning: voorspellen van leeftijd, geslacht en emotie van hetzelfde gezicht.\n",
    "* Tabulaire data: voorspellen van zowel een continu resultaat (regressie) als een categorie (classificatie) uit dezelfde features.\n",
    "* Gezondheidszorg: voorspellen van meerdere symptomen of uitkomsten uit patiëntgegevens.\n",
    "\n",
    "Een multi-task model heeft vaak gedeelde lagen (shared layers) die features leren die nuttig zijn voor alle taken, en taakspecifieke lagen (task-specific layers) die de uiteindelijke voorspelling voor elke taak maken. Dit resulteert inde volgende architectuur.\n",
    "\n",
    "* De eerste lagen zijn gedeeld voor alle taken.\n",
    "* Daarna heeft elke taak een eigen output layer.\n",
    "\n",
    "Daarnaast moet er voldoende aandacht besteed worden aan de loss-functie van dit netwerk.\n",
    "Omdat er nu meerdere taken zijn, zijn er ook meerdere fouten (1 per taak).\n",
    "Om het netwerk correct te trainen moet je de loss-functies combineren tot een samengestelde lossfunctie (vermenigvuldig elke loss-functie met een factor die je kiest en tel ze op).\n",
    "Het gewicht van de loss-functie is echter belangrijk voor goed learning en om een goede waarde te vinden kan het nodig zijn om met verschillende parameters te experimenteren.\n",
    "\n",
    "Hieronder staat een eenvoudig feedforward multi-task model in PyTorch dat één regressie- en één classificatietaak tegelijk uitvoert."
   ]
  },
  {
   "cell_type": "code",
   "execution_count": null,
   "metadata": {},
   "outputs": [],
   "source": []
  },
  {
   "cell_type": "markdown",
   "metadata": {},
   "source": [
    "Met Keras ziet dit eruit als volgt"
   ]
  },
  {
   "cell_type": "code",
   "execution_count": null,
   "metadata": {},
   "outputs": [],
   "source": []
  },
  {
   "cell_type": "markdown",
   "metadata": {},
   "source": [
    "## Visualisatie van model architecturen\n",
    "\n",
    "Er zijn heel wat verschillende manieren om de netwerkarchitectuur te visualiseren om goed te begrijpen wat er gebeurd.\n",
    "Hieronder staan er een aantal voorbeelden voor\n",
    "\n",
    "**PYTORCH**"
   ]
  },
  {
   "cell_type": "code",
   "execution_count": null,
   "metadata": {},
   "outputs": [],
   "source": [
    "# print model"
   ]
  },
  {
   "cell_type": "code",
   "execution_count": null,
   "metadata": {},
   "outputs": [],
   "source": [
    "# print summary"
   ]
  },
  {
   "cell_type": "code",
   "execution_count": null,
   "metadata": {},
   "outputs": [],
   "source": [
    "# print each layer"
   ]
  },
  {
   "cell_type": "code",
   "execution_count": null,
   "metadata": {},
   "outputs": [],
   "source": [
    "# make figure of the architecture"
   ]
  },
  {
   "cell_type": "code",
   "execution_count": null,
   "metadata": {},
   "outputs": [],
   "source": [
    "# with tensorboard"
   ]
  },
  {
   "cell_type": "markdown",
   "metadata": {},
   "source": [
    "**KERAS**"
   ]
  },
  {
   "cell_type": "code",
   "execution_count": null,
   "metadata": {},
   "outputs": [],
   "source": []
  },
  {
   "cell_type": "code",
   "execution_count": null,
   "metadata": {},
   "outputs": [],
   "source": []
  },
  {
   "cell_type": "code",
   "execution_count": null,
   "metadata": {},
   "outputs": [],
   "source": []
  },
  {
   "cell_type": "markdown",
   "metadata": {},
   "source": [
    "## Oefening - multitask\n",
    "\n",
    "Ga aan de slag met [de wine-quality dataset](https://www.kaggle.com/datasets/uciml/red-wine-quality-cortez-et-al-2009).\n",
    "Je kan de dataset downloaden met kagglehub of manueel.\n",
    "\n",
    "De op te lossen taken met deze dataset zijn:\n",
    "\n",
    "* Taak 1: Voorspel de kwaliteit (quality) als integer score 0–10 → classificatie of regressie (kan als beiden)\n",
    "* Taak 2: Voorspel of de wijn goed is of slecht (bijvoorbeeld quality >= 6) → binary classification\n",
    "\n",
    "Voer hieronder de volgende stappen uit en train zowel een pytorch model als een keras model:\n",
    "\n",
    "* Data inspecteren: bekijk statistieken, histogram van kwaliteit en good/bad labels.\n",
    "* Preprocessing: normalisatie van features.\n",
    "* Split train/test.\n",
    "* Model bouwen:\n",
    "  * Shared layers\n",
    "  * Task-specific heads (regression + binary)\n",
    "* Loss functies instellen (MSE voor regressie, BCE voor classificatie)\n",
    "* Train model\n",
    "* Evalueer prestaties op beide taken (MAE voor regressie, accuracy voor binary)"
   ]
  },
  {
   "cell_type": "code",
   "execution_count": null,
   "metadata": {},
   "outputs": [],
   "source": [
    "# data voorbereiden"
   ]
  },
  {
   "cell_type": "code",
   "execution_count": null,
   "metadata": {},
   "outputs": [],
   "source": [
    "# dataloaders"
   ]
  },
  {
   "cell_type": "code",
   "execution_count": null,
   "metadata": {},
   "outputs": [],
   "source": [
    "# multi-task model"
   ]
  },
  {
   "cell_type": "code",
   "execution_count": null,
   "metadata": {},
   "outputs": [],
   "source": [
    "# train the model"
   ]
  },
  {
   "cell_type": "markdown",
   "metadata": {},
   "source": [
    "**Met Keras**"
   ]
  },
  {
   "cell_type": "code",
   "execution_count": null,
   "metadata": {},
   "outputs": [],
   "source": [
    "# bouw en train model with keras"
   ]
  },
  {
   "cell_type": "code",
   "execution_count": null,
   "metadata": {},
   "outputs": [],
   "source": []
  }
 ],
 "metadata": {
  "colab": {
   "collapsed_sections": [],
   "name": "pandas_dataframe.ipynb",
   "toc_visible": true
  },
  "kernelspec": {
   "display_name": "Python 3 (ipykernel)",
   "language": "python",
   "name": "python3"
  },
  "language_info": {
   "codemirror_mode": {
    "name": "ipython",
    "version": 3
   },
   "file_extension": ".py",
   "mimetype": "text/x-python",
   "name": "python",
   "nbconvert_exporter": "python",
   "pygments_lexer": "ipython3",
   "version": "3.10.13"
  }
 },
 "nbformat": 4,
 "nbformat_minor": 4
}
