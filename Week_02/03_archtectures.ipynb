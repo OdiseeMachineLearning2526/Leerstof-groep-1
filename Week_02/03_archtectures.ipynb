{
 "cells": [
  {
   "cell_type": "markdown",
   "metadata": {
    "id": "zwBCE43Cv3PH"
   },
   "source": [
    "# Gestructureerde data: Complexere architecturen"
   ]
  },
  {
   "cell_type": "markdown",
   "metadata": {},
   "source": [
    "In de voorgaande onderdelen heb je reeds gemerkt dat het verwerken van de input in het geval van gestructureerde data kan leiden tot een complexere netwerkarchitectuur.\n",
    "In deze notebook gaan we dit in meer detail bestuderen en ook kijken naar de mogelijkheden aan de output-kant van het netwerk."
   ]
  },
  {
   "cell_type": "markdown",
   "metadata": {},
   "source": [
    "## Multi-modal modellen (meerdere inputs combineren voor 1 output)\n",
    "\n",
    "Een multi-modal neuraal netwerk is een netwerk dat leert van meerdere soorten data (modaliteiten) tegelijk. Modaliteiten kunnen bijvoorbeeld zijn:\n",
    "\n",
    "* Gestructureerde data (sensorwaarden, tabellen, tijdreeksen)\n",
    "* Beelden (RGB-foto's, video frames)\n",
    "* Tekst (reviews, captions, transcripties)\n",
    "* Audio (spraak, muziek)\n",
    "\n",
    "Het doel is om de informatie uit verschillende bronnen te combineren zodat het model betere prestaties kan leveren dan wanneer je slechts één modaliteit gebruikt.\n",
    "\n",
    "Elke modaliteit heeft vaak een gespecialiseerde encoder:\n",
    "| Modaliteit    | Veelgebruikte encoders                               |\n",
    "| ------------- | ---------------------------------------------------- |\n",
    "| Gestructureerde | Fully connected layers, tabular transformers         |\n",
    "| Beeld         | CNN (ResNet, EfficientNet), ViT (Vision Transformer) |\n",
    "| Tekst         | RNN, LSTM, GRU, Transformers (BERT, GPT)             |\n",
    "| Audio         | 1D-CNN, spectrogram + 2D-CNN, Wav2Vec                |\n",
    "\n",
    "Er zijn verschillende manieren om features van de verscheidene modaliteiten te combineren:\n",
    "\n",
    "* Early fusion: De ruwe data wordt gecombineerd vóór het netwerk (vaak lastig bij verschillende soorten data).\n",
    "* Intermediate fusion: Features van verschillende subnetwerken worden gecombineerd in een middenlaag (meest gebruikelijk).\n",
    "* Late fusion: Elke modaliteit geeft een voorspelling en die worden gecombineerd (bijv. gemiddelde, gewogen gemiddelde, of meta-classifier). Dit lijkt op de klassieke ensemble technieken die we vorig jaar gezien hebben.\n",
    "\n",
    "Met pytorch ziet dit eruit als volgt:"
   ]
  },
  {
   "cell_type": "code",
   "execution_count": 1,
   "metadata": {},
   "outputs": [
    {
     "name": "stdout",
     "output_type": "stream",
     "text": [
      "torch.Size([4, 5])\n"
     ]
    }
   ],
   "source": [
    "import torch\n",
    "import torch.nn as nn\n",
    "import torch.nn.functional as F\n",
    "\n",
    "# --- Encoder voor modaliteit 1 ---\n",
    "class Modality1Encoder(nn.Module):\n",
    "    def __init__(self, input_dim=20, hidden_dim=64, out_dim=128):\n",
    "        super().__init__()\n",
    "        self.fc = nn.Sequential(\n",
    "            nn.Linear(input_dim, hidden_dim),\n",
    "            nn.ReLU(),\n",
    "            nn.Linear(hidden_dim, out_dim),\n",
    "            nn.ReLU()\n",
    "        )\n",
    "    \n",
    "    def forward(self, x):\n",
    "        return self.fc(x)\n",
    "\n",
    "# --- Encoder voor modaliteit 2 ---\n",
    "class Modality2Encoder(nn.Module):\n",
    "    def __init__(self, input_dim=15, hidden_dim=32, out_dim=128):\n",
    "        super().__init__()\n",
    "        self.fc = nn.Sequential(\n",
    "            nn.Linear(input_dim, hidden_dim),\n",
    "            nn.ReLU(),\n",
    "            nn.Linear(hidden_dim, out_dim),\n",
    "            nn.ReLU()\n",
    "        )\n",
    "    \n",
    "    def forward(self, x):\n",
    "        return self.fc(x)\n",
    "\n",
    "# --- Multi-modal model met feedforward subnetwerken ---\n",
    "class MultiModalFFNN(nn.Module):\n",
    "    def __init__(self, input_dim1, input_dim2, num_classes):\n",
    "        super().__init__()\n",
    "        self.mod1_encoder = Modality1Encoder(input_dim=input_dim1, out_dim=128)\n",
    "        self.mod2_encoder = Modality2Encoder(input_dim=input_dim2, out_dim=128)\n",
    "        self.classifier = nn.Linear(128*2, num_classes)\n",
    "    \n",
    "    def forward(self, x1, x2):\n",
    "        feat1 = self.mod1_encoder(x1)\n",
    "        feat2 = self.mod2_encoder(x2)\n",
    "        combined = torch.cat([feat1, feat2], dim=1)  # feature fusion\n",
    "        out = self.classifier(combined)\n",
    "        return out\n",
    "\n",
    "# --- Voorbeeld input ---\n",
    "batch_size = 4\n",
    "x1 = torch.randn(batch_size, 20)  # modaliteit 1\n",
    "x2 = torch.randn(batch_size, 15)  # modaliteit 2\n",
    "\n",
    "model = MultiModalFFNN(input_dim1=20, input_dim2=15, num_classes=5)\n",
    "output = model(x1, x2)\n",
    "print(output.shape)  # torch.Size([4, 5])\n"
   ]
  },
  {
   "cell_type": "markdown",
   "metadata": {},
   "source": [
    "Met de functial API van Keras ziet dit er dan uit als volgt"
   ]
  },
  {
   "cell_type": "code",
   "execution_count": 2,
   "metadata": {},
   "outputs": [
    {
     "name": "stdout",
     "output_type": "stream",
     "text": [
      "Using PyTorch backend.\n"
     ]
    },
    {
     "data": {
      "text/html": [
       "<pre style=\"white-space:pre;overflow-x:auto;line-height:normal;font-family:Menlo,'DejaVu Sans Mono',consolas,'Courier New',monospace\"><span style=\"font-weight: bold\">Model: \"functional_1\"</span>\n",
       "</pre>\n"
      ],
      "text/plain": [
       "\u001b[1mModel: \"functional_1\"\u001b[0m\n"
      ]
     },
     "metadata": {},
     "output_type": "display_data"
    },
    {
     "data": {
      "text/html": [
       "<pre style=\"white-space:pre;overflow-x:auto;line-height:normal;font-family:Menlo,'DejaVu Sans Mono',consolas,'Courier New',monospace\">┏━━━━━━━━━━━━━━━━━━━━━┳━━━━━━━━━━━━━━━━━━━┳━━━━━━━━━┳━━━━━━━━━━━━━━━━━━━━━━┓\n",
       "┃<span style=\"font-weight: bold\"> Layer (type)        </span>┃<span style=\"font-weight: bold\"> Output Shape      </span>┃<span style=\"font-weight: bold\"> Param # </span>┃<span style=\"font-weight: bold\"> Connected to         </span>┃\n",
       "┡━━━━━━━━━━━━━━━━━━━━━╇━━━━━━━━━━━━━━━━━━━╇━━━━━━━━━╇━━━━━━━━━━━━━━━━━━━━━━┩\n",
       "│ modality1_input     │ (<span style=\"color: #00d7ff; text-decoration-color: #00d7ff\">None</span>, <span style=\"color: #00af00; text-decoration-color: #00af00\">20</span>)        │       <span style=\"color: #00af00; text-decoration-color: #00af00\">0</span> │ -                    │\n",
       "│ (<span style=\"color: #0087ff; text-decoration-color: #0087ff\">InputLayer</span>)        │                   │         │                      │\n",
       "├─────────────────────┼───────────────────┼─────────┼──────────────────────┤\n",
       "│ modality2_input     │ (<span style=\"color: #00d7ff; text-decoration-color: #00d7ff\">None</span>, <span style=\"color: #00af00; text-decoration-color: #00af00\">15</span>)        │       <span style=\"color: #00af00; text-decoration-color: #00af00\">0</span> │ -                    │\n",
       "│ (<span style=\"color: #0087ff; text-decoration-color: #0087ff\">InputLayer</span>)        │                   │         │                      │\n",
       "├─────────────────────┼───────────────────┼─────────┼──────────────────────┤\n",
       "│ Modality1Encoder    │ (<span style=\"color: #00d7ff; text-decoration-color: #00d7ff\">None</span>, <span style=\"color: #00af00; text-decoration-color: #00af00\">128</span>)       │   <span style=\"color: #00af00; text-decoration-color: #00af00\">9,664</span> │ modality1_input[<span style=\"color: #00af00; text-decoration-color: #00af00\">0</span>][<span style=\"color: #00af00; text-decoration-color: #00af00\">…</span> │\n",
       "│ (<span style=\"color: #0087ff; text-decoration-color: #0087ff\">Functional</span>)        │                   │         │                      │\n",
       "├─────────────────────┼───────────────────┼─────────┼──────────────────────┤\n",
       "│ Modality2Encoder    │ (<span style=\"color: #00d7ff; text-decoration-color: #00d7ff\">None</span>, <span style=\"color: #00af00; text-decoration-color: #00af00\">128</span>)       │   <span style=\"color: #00af00; text-decoration-color: #00af00\">4,736</span> │ modality2_input[<span style=\"color: #00af00; text-decoration-color: #00af00\">0</span>][<span style=\"color: #00af00; text-decoration-color: #00af00\">…</span> │\n",
       "│ (<span style=\"color: #0087ff; text-decoration-color: #0087ff\">Functional</span>)        │                   │         │                      │\n",
       "├─────────────────────┼───────────────────┼─────────┼──────────────────────┤\n",
       "│ concatenate         │ (<span style=\"color: #00d7ff; text-decoration-color: #00d7ff\">None</span>, <span style=\"color: #00af00; text-decoration-color: #00af00\">256</span>)       │       <span style=\"color: #00af00; text-decoration-color: #00af00\">0</span> │ Modality1Encoder[<span style=\"color: #00af00; text-decoration-color: #00af00\">0</span>]… │\n",
       "│ (<span style=\"color: #0087ff; text-decoration-color: #0087ff\">Concatenate</span>)       │                   │         │ Modality2Encoder[<span style=\"color: #00af00; text-decoration-color: #00af00\">0</span>]… │\n",
       "├─────────────────────┼───────────────────┼─────────┼──────────────────────┤\n",
       "│ dense_4 (<span style=\"color: #0087ff; text-decoration-color: #0087ff\">Dense</span>)     │ (<span style=\"color: #00d7ff; text-decoration-color: #00d7ff\">None</span>, <span style=\"color: #00af00; text-decoration-color: #00af00\">5</span>)         │   <span style=\"color: #00af00; text-decoration-color: #00af00\">1,285</span> │ concatenate[<span style=\"color: #00af00; text-decoration-color: #00af00\">0</span>][<span style=\"color: #00af00; text-decoration-color: #00af00\">0</span>]    │\n",
       "└─────────────────────┴───────────────────┴─────────┴──────────────────────┘\n",
       "</pre>\n"
      ],
      "text/plain": [
       "┏━━━━━━━━━━━━━━━━━━━━━┳━━━━━━━━━━━━━━━━━━━┳━━━━━━━━━┳━━━━━━━━━━━━━━━━━━━━━━┓\n",
       "┃\u001b[1m \u001b[0m\u001b[1mLayer (type)       \u001b[0m\u001b[1m \u001b[0m┃\u001b[1m \u001b[0m\u001b[1mOutput Shape     \u001b[0m\u001b[1m \u001b[0m┃\u001b[1m \u001b[0m\u001b[1mParam #\u001b[0m\u001b[1m \u001b[0m┃\u001b[1m \u001b[0m\u001b[1mConnected to        \u001b[0m\u001b[1m \u001b[0m┃\n",
       "┡━━━━━━━━━━━━━━━━━━━━━╇━━━━━━━━━━━━━━━━━━━╇━━━━━━━━━╇━━━━━━━━━━━━━━━━━━━━━━┩\n",
       "│ modality1_input     │ (\u001b[38;5;45mNone\u001b[0m, \u001b[38;5;34m20\u001b[0m)        │       \u001b[38;5;34m0\u001b[0m │ -                    │\n",
       "│ (\u001b[38;5;33mInputLayer\u001b[0m)        │                   │         │                      │\n",
       "├─────────────────────┼───────────────────┼─────────┼──────────────────────┤\n",
       "│ modality2_input     │ (\u001b[38;5;45mNone\u001b[0m, \u001b[38;5;34m15\u001b[0m)        │       \u001b[38;5;34m0\u001b[0m │ -                    │\n",
       "│ (\u001b[38;5;33mInputLayer\u001b[0m)        │                   │         │                      │\n",
       "├─────────────────────┼───────────────────┼─────────┼──────────────────────┤\n",
       "│ Modality1Encoder    │ (\u001b[38;5;45mNone\u001b[0m, \u001b[38;5;34m128\u001b[0m)       │   \u001b[38;5;34m9,664\u001b[0m │ modality1_input[\u001b[38;5;34m0\u001b[0m][\u001b[38;5;34m…\u001b[0m │\n",
       "│ (\u001b[38;5;33mFunctional\u001b[0m)        │                   │         │                      │\n",
       "├─────────────────────┼───────────────────┼─────────┼──────────────────────┤\n",
       "│ Modality2Encoder    │ (\u001b[38;5;45mNone\u001b[0m, \u001b[38;5;34m128\u001b[0m)       │   \u001b[38;5;34m4,736\u001b[0m │ modality2_input[\u001b[38;5;34m0\u001b[0m][\u001b[38;5;34m…\u001b[0m │\n",
       "│ (\u001b[38;5;33mFunctional\u001b[0m)        │                   │         │                      │\n",
       "├─────────────────────┼───────────────────┼─────────┼──────────────────────┤\n",
       "│ concatenate         │ (\u001b[38;5;45mNone\u001b[0m, \u001b[38;5;34m256\u001b[0m)       │       \u001b[38;5;34m0\u001b[0m │ Modality1Encoder[\u001b[38;5;34m0\u001b[0m]… │\n",
       "│ (\u001b[38;5;33mConcatenate\u001b[0m)       │                   │         │ Modality2Encoder[\u001b[38;5;34m0\u001b[0m]… │\n",
       "├─────────────────────┼───────────────────┼─────────┼──────────────────────┤\n",
       "│ dense_4 (\u001b[38;5;33mDense\u001b[0m)     │ (\u001b[38;5;45mNone\u001b[0m, \u001b[38;5;34m5\u001b[0m)         │   \u001b[38;5;34m1,285\u001b[0m │ concatenate[\u001b[38;5;34m0\u001b[0m][\u001b[38;5;34m0\u001b[0m]    │\n",
       "└─────────────────────┴───────────────────┴─────────┴──────────────────────┘\n"
      ]
     },
     "metadata": {},
     "output_type": "display_data"
    },
    {
     "data": {
      "text/html": [
       "<pre style=\"white-space:pre;overflow-x:auto;line-height:normal;font-family:Menlo,'DejaVu Sans Mono',consolas,'Courier New',monospace\"><span style=\"font-weight: bold\"> Total params: </span><span style=\"color: #00af00; text-decoration-color: #00af00\">15,685</span> (61.27 KB)\n",
       "</pre>\n"
      ],
      "text/plain": [
       "\u001b[1m Total params: \u001b[0m\u001b[38;5;34m15,685\u001b[0m (61.27 KB)\n"
      ]
     },
     "metadata": {},
     "output_type": "display_data"
    },
    {
     "data": {
      "text/html": [
       "<pre style=\"white-space:pre;overflow-x:auto;line-height:normal;font-family:Menlo,'DejaVu Sans Mono',consolas,'Courier New',monospace\"><span style=\"font-weight: bold\"> Trainable params: </span><span style=\"color: #00af00; text-decoration-color: #00af00\">15,685</span> (61.27 KB)\n",
       "</pre>\n"
      ],
      "text/plain": [
       "\u001b[1m Trainable params: \u001b[0m\u001b[38;5;34m15,685\u001b[0m (61.27 KB)\n"
      ]
     },
     "metadata": {},
     "output_type": "display_data"
    },
    {
     "data": {
      "text/html": [
       "<pre style=\"white-space:pre;overflow-x:auto;line-height:normal;font-family:Menlo,'DejaVu Sans Mono',consolas,'Courier New',monospace\"><span style=\"font-weight: bold\"> Non-trainable params: </span><span style=\"color: #00af00; text-decoration-color: #00af00\">0</span> (0.00 B)\n",
       "</pre>\n"
      ],
      "text/plain": [
       "\u001b[1m Non-trainable params: \u001b[0m\u001b[38;5;34m0\u001b[0m (0.00 B)\n"
      ]
     },
     "metadata": {},
     "output_type": "display_data"
    },
    {
     "name": "stdout",
     "output_type": "stream",
     "text": [
      "Epoch 1/3\n",
      "\u001b[1m1/1\u001b[0m \u001b[32m━━━━━━━━━━━━━━━━━━━━\u001b[0m\u001b[37m\u001b[0m \u001b[1m7s\u001b[0m 7s/step - accuracy: 0.5000 - loss: 1.3973\n",
      "Epoch 2/3\n",
      "\u001b[1m1/1\u001b[0m \u001b[32m━━━━━━━━━━━━━━━━━━━━\u001b[0m\u001b[37m\u001b[0m \u001b[1m0s\u001b[0m 8ms/step - accuracy: 0.5000 - loss: 1.2213\n",
      "Epoch 3/3\n",
      "\u001b[1m1/1\u001b[0m \u001b[32m━━━━━━━━━━━━━━━━━━━━\u001b[0m\u001b[37m\u001b[0m \u001b[1m0s\u001b[0m 7ms/step - accuracy: 0.7500 - loss: 1.0625\n"
     ]
    },
    {
     "data": {
      "text/plain": [
       "<keras_core.src.callbacks.history.History at 0x711f036710c0>"
      ]
     },
     "execution_count": 2,
     "metadata": {},
     "output_type": "execute_result"
    }
   ],
   "source": [
    "import keras_core as keras\n",
    "from keras_core import layers, models, Input\n",
    "\n",
    "# --- Encoder voor modaliteit 1 ---\n",
    "def Modality1Encoder(input_dim=20, hidden_dim=64, out_dim=128):\n",
    "    inputs = Input(shape=(input_dim,))\n",
    "    x = layers.Dense(hidden_dim, activation='relu')(inputs)\n",
    "    x = layers.Dense(out_dim, activation='relu')(x)\n",
    "    return models.Model(inputs, x, name=\"Modality1Encoder\")\n",
    "\n",
    "# --- Encoder voor modaliteit 2 ---\n",
    "def Modality2Encoder(input_dim=15, hidden_dim=32, out_dim=128):\n",
    "    inputs = Input(shape=(input_dim,))\n",
    "    x = layers.Dense(hidden_dim, activation='relu')(inputs)\n",
    "    x = layers.Dense(out_dim, activation='relu')(x)\n",
    "    return models.Model(inputs, x, name=\"Modality2Encoder\")\n",
    "\n",
    "# --- Multi-modal model ---\n",
    "def MultiModalFFNN(input_dim1=20, input_dim2=15, num_classes=5):\n",
    "    # Inputs\n",
    "    input1 = Input(shape=(input_dim1,), name=\"modality1_input\")\n",
    "    input2 = Input(shape=(input_dim2,), name=\"modality2_input\")\n",
    "    \n",
    "    # Subnetwerken\n",
    "    mod1_feat = Modality1Encoder(input_dim1)(input1)\n",
    "    mod2_feat = Modality2Encoder(input_dim2)(input2)\n",
    "    \n",
    "    # Feature fusion\n",
    "    combined = layers.Concatenate()([mod1_feat, mod2_feat])\n",
    "    \n",
    "    # Classifier\n",
    "    output = layers.Dense(num_classes, activation='softmax')(combined)\n",
    "    \n",
    "    model = models.Model(inputs=[input1, input2], outputs=output)\n",
    "    return model\n",
    "\n",
    "# --- Model initialiseren ---\n",
    "model = MultiModalFFNN(input_dim1=20, input_dim2=15, num_classes=5)\n",
    "model.summary()\n",
    "\n",
    "# --- Voorbeeld input ---\n",
    "import numpy as np\n",
    "x1 = np.random.randn(4, 20)  # batch size 4\n",
    "x2 = np.random.randn(4, 15)\n",
    "y = np.random.randint(0, 5, size=(4,))\n",
    "\n",
    "# --- Model compileren en trainen ---\n",
    "model.compile(optimizer='adam', loss='sparse_categorical_crossentropy', metrics=['accuracy'])\n",
    "model.fit([x1, x2], y, epochs=3)\n"
   ]
  },
  {
   "cell_type": "markdown",
   "metadata": {},
   "source": [
    "## Multi-task/output/head model\n",
    "\n",
    "Een multi-task neuraal netwerk is een netwerk dat meerdere gerelateerde taken tegelijk leert. In plaats van voor elke taak een afzonderlijk netwerk te trainen, wordt één netwerk gedeeld over taken. Dit kan leiden tot betere generalisatie, omdat het netwerk gedeelde representaties leert die nuttig zijn voor meerdere taken.\n",
    "\n",
    "Voorbeelden van multi-task learning:\n",
    "\n",
    "* Gezichtsherkenning: voorspellen van leeftijd, geslacht en emotie van hetzelfde gezicht.\n",
    "* Tabulaire data: voorspellen van zowel een continu resultaat (regressie) als een categorie (classificatie) uit dezelfde features.\n",
    "* Gezondheidszorg: voorspellen van meerdere symptomen of uitkomsten uit patiëntgegevens.\n",
    "\n",
    "Een multi-task model heeft vaak gedeelde lagen (shared layers) die features leren die nuttig zijn voor alle taken, en taakspecifieke lagen (task-specific layers) die de uiteindelijke voorspelling voor elke taak maken. Dit resulteert inde volgende architectuur.\n",
    "\n",
    "* De eerste lagen zijn gedeeld voor alle taken.\n",
    "* Daarna heeft elke taak een eigen output layer.\n",
    "\n",
    "Daarnaast moet er voldoende aandacht besteed worden aan de loss-functie van dit netwerk.\n",
    "Omdat er nu meerdere taken zijn, zijn er ook meerdere fouten (1 per taak).\n",
    "Om het netwerk correct te trainen moet je de loss-functies combineren tot een samengestelde lossfunctie (vermenigvuldig elke loss-functie met een factor die je kiest en tel ze op).\n",
    "Het gewicht van de loss-functie is echter belangrijk voor goed learning en om een goede waarde te vinden kan het nodig zijn om met verschillende parameters te experimenteren.\n",
    "\n",
    "Hieronder staat een eenvoudig feedforward multi-task model in PyTorch dat één regressie- en één classificatietaak tegelijk uitvoert."
   ]
  },
  {
   "cell_type": "code",
   "execution_count": 3,
   "metadata": {},
   "outputs": [
    {
     "name": "stdout",
     "output_type": "stream",
     "text": [
      "Regressie output: torch.Size([4, 1])\n",
      "Classificatie output: torch.Size([4, 3])\n",
      "Epoch 0, Loss: 1.5045\n",
      "Epoch 1, Loss: 1.4678\n",
      "Epoch 2, Loss: 1.4329\n",
      "Epoch 3, Loss: 1.4000\n",
      "Epoch 4, Loss: 1.3674\n"
     ]
    }
   ],
   "source": [
    "import torch\n",
    "import torch.nn as nn\n",
    "import torch.nn.functional as F\n",
    "\n",
    "# --- Multi-task feedforward netwerk ---\n",
    "class MultiTaskFFNN(nn.Module):\n",
    "    def __init__(self, input_dim, shared_dim=64, task1_dim=32, task2_dim=32, num_classes=3):\n",
    "        super().__init__()\n",
    "        # Shared layers\n",
    "        self.shared = nn.Sequential(\n",
    "            nn.Linear(input_dim, shared_dim),\n",
    "            nn.ReLU(),\n",
    "            nn.Linear(shared_dim, shared_dim),\n",
    "            nn.ReLU()\n",
    "        )\n",
    "        \n",
    "        # Taakspecifieke layers\n",
    "        self.task1 = nn.Sequential(  # regressie\n",
    "            nn.Linear(shared_dim, task1_dim),\n",
    "            nn.ReLU(),\n",
    "            nn.Linear(task1_dim, 1)  # output 1 waarde\n",
    "        )\n",
    "        \n",
    "        self.task2 = nn.Sequential(  # classificatie\n",
    "            nn.Linear(shared_dim, task2_dim),\n",
    "            nn.ReLU(),\n",
    "            nn.Linear(task2_dim, num_classes)  # logits\n",
    "        )\n",
    "    \n",
    "    def forward(self, x):\n",
    "        shared_feat = self.shared(x)\n",
    "        out1 = self.task1(shared_feat)\n",
    "        out2 = self.task2(shared_feat)\n",
    "        return out1, out2\n",
    "\n",
    "# --- Voorbeeld input ---\n",
    "batch_size = 4\n",
    "input_dim = 10\n",
    "x = torch.randn(batch_size, input_dim)\n",
    "\n",
    "model = MultiTaskFFNN(input_dim=input_dim, num_classes=3)\n",
    "out1, out2 = model(x)\n",
    "print(\"Regressie output:\", out1.shape)  # torch.Size([4,1])\n",
    "print(\"Classificatie output:\", out2.shape)  # torch.Size([4,3])\n",
    "\n",
    "# --- Voorbeeld training loop ---\n",
    "y_reg = torch.randn(batch_size,1)\n",
    "y_class = torch.randint(0,3,(batch_size,))\n",
    "\n",
    "optimizer = torch.optim.Adam(model.parameters(), lr=0.001)\n",
    "loss_fn_reg = nn.MSELoss()\n",
    "loss_fn_class = nn.CrossEntropyLoss()\n",
    "\n",
    "for epoch in range(5):\n",
    "    optimizer.zero_grad()\n",
    "    out1, out2 = model(x)\n",
    "    loss1 = loss_fn_reg(out1, y_reg)\n",
    "    loss2 = loss_fn_class(out2, y_class)\n",
    "    loss = 0.4 * loss1 + 0.6 * loss2  # eenvoudige gewogen som\n",
    "    loss.backward()\n",
    "    optimizer.step()\n",
    "    print(f\"Epoch {epoch}, Loss: {loss.item():.4f}\")\n",
    "\n",
    "model_pytorch = model"
   ]
  },
  {
   "cell_type": "markdown",
   "metadata": {},
   "source": [
    "Met Keras ziet dit eruit als volgt"
   ]
  },
  {
   "cell_type": "code",
   "execution_count": 4,
   "metadata": {},
   "outputs": [
    {
     "data": {
      "text/html": [
       "<pre style=\"white-space:pre;overflow-x:auto;line-height:normal;font-family:Menlo,'DejaVu Sans Mono',consolas,'Courier New',monospace\"><span style=\"font-weight: bold\">Model: \"functional_3\"</span>\n",
       "</pre>\n"
      ],
      "text/plain": [
       "\u001b[1mModel: \"functional_3\"\u001b[0m\n"
      ]
     },
     "metadata": {},
     "output_type": "display_data"
    },
    {
     "data": {
      "text/html": [
       "<pre style=\"white-space:pre;overflow-x:auto;line-height:normal;font-family:Menlo,'DejaVu Sans Mono',consolas,'Courier New',monospace\">┏━━━━━━━━━━━━━━━━━━━━━┳━━━━━━━━━━━━━━━━━━━┳━━━━━━━━━┳━━━━━━━━━━━━━━━━━━━━━━┓\n",
       "┃<span style=\"font-weight: bold\"> Layer (type)        </span>┃<span style=\"font-weight: bold\"> Output Shape      </span>┃<span style=\"font-weight: bold\"> Param # </span>┃<span style=\"font-weight: bold\"> Connected to         </span>┃\n",
       "┡━━━━━━━━━━━━━━━━━━━━━╇━━━━━━━━━━━━━━━━━━━╇━━━━━━━━━╇━━━━━━━━━━━━━━━━━━━━━━┩\n",
       "│ input_layer         │ (<span style=\"color: #00d7ff; text-decoration-color: #00d7ff\">None</span>, <span style=\"color: #00af00; text-decoration-color: #00af00\">10</span>)        │       <span style=\"color: #00af00; text-decoration-color: #00af00\">0</span> │ -                    │\n",
       "│ (<span style=\"color: #0087ff; text-decoration-color: #0087ff\">InputLayer</span>)        │                   │         │                      │\n",
       "├─────────────────────┼───────────────────┼─────────┼──────────────────────┤\n",
       "│ dense_5 (<span style=\"color: #0087ff; text-decoration-color: #0087ff\">Dense</span>)     │ (<span style=\"color: #00d7ff; text-decoration-color: #00d7ff\">None</span>, <span style=\"color: #00af00; text-decoration-color: #00af00\">64</span>)        │     <span style=\"color: #00af00; text-decoration-color: #00af00\">704</span> │ input_layer[<span style=\"color: #00af00; text-decoration-color: #00af00\">0</span>][<span style=\"color: #00af00; text-decoration-color: #00af00\">0</span>]    │\n",
       "├─────────────────────┼───────────────────┼─────────┼──────────────────────┤\n",
       "│ dense_6 (<span style=\"color: #0087ff; text-decoration-color: #0087ff\">Dense</span>)     │ (<span style=\"color: #00d7ff; text-decoration-color: #00d7ff\">None</span>, <span style=\"color: #00af00; text-decoration-color: #00af00\">64</span>)        │   <span style=\"color: #00af00; text-decoration-color: #00af00\">4,160</span> │ dense_5[<span style=\"color: #00af00; text-decoration-color: #00af00\">0</span>][<span style=\"color: #00af00; text-decoration-color: #00af00\">0</span>]        │\n",
       "├─────────────────────┼───────────────────┼─────────┼──────────────────────┤\n",
       "│ dense_7 (<span style=\"color: #0087ff; text-decoration-color: #0087ff\">Dense</span>)     │ (<span style=\"color: #00d7ff; text-decoration-color: #00d7ff\">None</span>, <span style=\"color: #00af00; text-decoration-color: #00af00\">32</span>)        │   <span style=\"color: #00af00; text-decoration-color: #00af00\">2,080</span> │ dense_6[<span style=\"color: #00af00; text-decoration-color: #00af00\">0</span>][<span style=\"color: #00af00; text-decoration-color: #00af00\">0</span>]        │\n",
       "├─────────────────────┼───────────────────┼─────────┼──────────────────────┤\n",
       "│ dense_8 (<span style=\"color: #0087ff; text-decoration-color: #0087ff\">Dense</span>)     │ (<span style=\"color: #00d7ff; text-decoration-color: #00d7ff\">None</span>, <span style=\"color: #00af00; text-decoration-color: #00af00\">32</span>)        │   <span style=\"color: #00af00; text-decoration-color: #00af00\">2,080</span> │ dense_6[<span style=\"color: #00af00; text-decoration-color: #00af00\">0</span>][<span style=\"color: #00af00; text-decoration-color: #00af00\">0</span>]        │\n",
       "├─────────────────────┼───────────────────┼─────────┼──────────────────────┤\n",
       "│ regression_output   │ (<span style=\"color: #00d7ff; text-decoration-color: #00d7ff\">None</span>, <span style=\"color: #00af00; text-decoration-color: #00af00\">1</span>)         │      <span style=\"color: #00af00; text-decoration-color: #00af00\">33</span> │ dense_7[<span style=\"color: #00af00; text-decoration-color: #00af00\">0</span>][<span style=\"color: #00af00; text-decoration-color: #00af00\">0</span>]        │\n",
       "│ (<span style=\"color: #0087ff; text-decoration-color: #0087ff\">Dense</span>)             │                   │         │                      │\n",
       "├─────────────────────┼───────────────────┼─────────┼──────────────────────┤\n",
       "│ classification_out… │ (<span style=\"color: #00d7ff; text-decoration-color: #00d7ff\">None</span>, <span style=\"color: #00af00; text-decoration-color: #00af00\">3</span>)         │      <span style=\"color: #00af00; text-decoration-color: #00af00\">99</span> │ dense_8[<span style=\"color: #00af00; text-decoration-color: #00af00\">0</span>][<span style=\"color: #00af00; text-decoration-color: #00af00\">0</span>]        │\n",
       "│ (<span style=\"color: #0087ff; text-decoration-color: #0087ff\">Dense</span>)             │                   │         │                      │\n",
       "└─────────────────────┴───────────────────┴─────────┴──────────────────────┘\n",
       "</pre>\n"
      ],
      "text/plain": [
       "┏━━━━━━━━━━━━━━━━━━━━━┳━━━━━━━━━━━━━━━━━━━┳━━━━━━━━━┳━━━━━━━━━━━━━━━━━━━━━━┓\n",
       "┃\u001b[1m \u001b[0m\u001b[1mLayer (type)       \u001b[0m\u001b[1m \u001b[0m┃\u001b[1m \u001b[0m\u001b[1mOutput Shape     \u001b[0m\u001b[1m \u001b[0m┃\u001b[1m \u001b[0m\u001b[1mParam #\u001b[0m\u001b[1m \u001b[0m┃\u001b[1m \u001b[0m\u001b[1mConnected to        \u001b[0m\u001b[1m \u001b[0m┃\n",
       "┡━━━━━━━━━━━━━━━━━━━━━╇━━━━━━━━━━━━━━━━━━━╇━━━━━━━━━╇━━━━━━━━━━━━━━━━━━━━━━┩\n",
       "│ input_layer         │ (\u001b[38;5;45mNone\u001b[0m, \u001b[38;5;34m10\u001b[0m)        │       \u001b[38;5;34m0\u001b[0m │ -                    │\n",
       "│ (\u001b[38;5;33mInputLayer\u001b[0m)        │                   │         │                      │\n",
       "├─────────────────────┼───────────────────┼─────────┼──────────────────────┤\n",
       "│ dense_5 (\u001b[38;5;33mDense\u001b[0m)     │ (\u001b[38;5;45mNone\u001b[0m, \u001b[38;5;34m64\u001b[0m)        │     \u001b[38;5;34m704\u001b[0m │ input_layer[\u001b[38;5;34m0\u001b[0m][\u001b[38;5;34m0\u001b[0m]    │\n",
       "├─────────────────────┼───────────────────┼─────────┼──────────────────────┤\n",
       "│ dense_6 (\u001b[38;5;33mDense\u001b[0m)     │ (\u001b[38;5;45mNone\u001b[0m, \u001b[38;5;34m64\u001b[0m)        │   \u001b[38;5;34m4,160\u001b[0m │ dense_5[\u001b[38;5;34m0\u001b[0m][\u001b[38;5;34m0\u001b[0m]        │\n",
       "├─────────────────────┼───────────────────┼─────────┼──────────────────────┤\n",
       "│ dense_7 (\u001b[38;5;33mDense\u001b[0m)     │ (\u001b[38;5;45mNone\u001b[0m, \u001b[38;5;34m32\u001b[0m)        │   \u001b[38;5;34m2,080\u001b[0m │ dense_6[\u001b[38;5;34m0\u001b[0m][\u001b[38;5;34m0\u001b[0m]        │\n",
       "├─────────────────────┼───────────────────┼─────────┼──────────────────────┤\n",
       "│ dense_8 (\u001b[38;5;33mDense\u001b[0m)     │ (\u001b[38;5;45mNone\u001b[0m, \u001b[38;5;34m32\u001b[0m)        │   \u001b[38;5;34m2,080\u001b[0m │ dense_6[\u001b[38;5;34m0\u001b[0m][\u001b[38;5;34m0\u001b[0m]        │\n",
       "├─────────────────────┼───────────────────┼─────────┼──────────────────────┤\n",
       "│ regression_output   │ (\u001b[38;5;45mNone\u001b[0m, \u001b[38;5;34m1\u001b[0m)         │      \u001b[38;5;34m33\u001b[0m │ dense_7[\u001b[38;5;34m0\u001b[0m][\u001b[38;5;34m0\u001b[0m]        │\n",
       "│ (\u001b[38;5;33mDense\u001b[0m)             │                   │         │                      │\n",
       "├─────────────────────┼───────────────────┼─────────┼──────────────────────┤\n",
       "│ classification_out… │ (\u001b[38;5;45mNone\u001b[0m, \u001b[38;5;34m3\u001b[0m)         │      \u001b[38;5;34m99\u001b[0m │ dense_8[\u001b[38;5;34m0\u001b[0m][\u001b[38;5;34m0\u001b[0m]        │\n",
       "│ (\u001b[38;5;33mDense\u001b[0m)             │                   │         │                      │\n",
       "└─────────────────────┴───────────────────┴─────────┴──────────────────────┘\n"
      ]
     },
     "metadata": {},
     "output_type": "display_data"
    },
    {
     "data": {
      "text/html": [
       "<pre style=\"white-space:pre;overflow-x:auto;line-height:normal;font-family:Menlo,'DejaVu Sans Mono',consolas,'Courier New',monospace\"><span style=\"font-weight: bold\"> Total params: </span><span style=\"color: #00af00; text-decoration-color: #00af00\">9,156</span> (35.77 KB)\n",
       "</pre>\n"
      ],
      "text/plain": [
       "\u001b[1m Total params: \u001b[0m\u001b[38;5;34m9,156\u001b[0m (35.77 KB)\n"
      ]
     },
     "metadata": {},
     "output_type": "display_data"
    },
    {
     "data": {
      "text/html": [
       "<pre style=\"white-space:pre;overflow-x:auto;line-height:normal;font-family:Menlo,'DejaVu Sans Mono',consolas,'Courier New',monospace\"><span style=\"font-weight: bold\"> Trainable params: </span><span style=\"color: #00af00; text-decoration-color: #00af00\">9,156</span> (35.77 KB)\n",
       "</pre>\n"
      ],
      "text/plain": [
       "\u001b[1m Trainable params: \u001b[0m\u001b[38;5;34m9,156\u001b[0m (35.77 KB)\n"
      ]
     },
     "metadata": {},
     "output_type": "display_data"
    },
    {
     "data": {
      "text/html": [
       "<pre style=\"white-space:pre;overflow-x:auto;line-height:normal;font-family:Menlo,'DejaVu Sans Mono',consolas,'Courier New',monospace\"><span style=\"font-weight: bold\"> Non-trainable params: </span><span style=\"color: #00af00; text-decoration-color: #00af00\">0</span> (0.00 B)\n",
       "</pre>\n"
      ],
      "text/plain": [
       "\u001b[1m Non-trainable params: \u001b[0m\u001b[38;5;34m0\u001b[0m (0.00 B)\n"
      ]
     },
     "metadata": {},
     "output_type": "display_data"
    },
    {
     "name": "stdout",
     "output_type": "stream",
     "text": [
      "Epoch 1/5\n",
      "\u001b[1m1/1\u001b[0m \u001b[32m━━━━━━━━━━━━━━━━━━━━\u001b[0m\u001b[37m\u001b[0m \u001b[1m0s\u001b[0m 19ms/step - classification_output_accuracy: 0.2500 - loss: 3.5111 - regression_output_mae: 1.2092\n",
      "Epoch 2/5\n",
      "\u001b[1m1/1\u001b[0m \u001b[32m━━━━━━━━━━━━━━━━━━━━\u001b[0m\u001b[37m\u001b[0m \u001b[1m0s\u001b[0m 10ms/step - classification_output_accuracy: 0.2500 - loss: 3.3936 - regression_output_mae: 1.1780\n",
      "Epoch 3/5\n",
      "\u001b[1m1/1\u001b[0m \u001b[32m━━━━━━━━━━━━━━━━━━━━\u001b[0m\u001b[37m\u001b[0m \u001b[1m0s\u001b[0m 10ms/step - classification_output_accuracy: 0.2500 - loss: 3.2817 - regression_output_mae: 1.1484\n",
      "Epoch 4/5\n",
      "\u001b[1m1/1\u001b[0m \u001b[32m━━━━━━━━━━━━━━━━━━━━\u001b[0m\u001b[37m\u001b[0m \u001b[1m0s\u001b[0m 10ms/step - classification_output_accuracy: 0.5000 - loss: 3.1758 - regression_output_mae: 1.1203\n",
      "Epoch 5/5\n",
      "\u001b[1m1/1\u001b[0m \u001b[32m━━━━━━━━━━━━━━━━━━━━\u001b[0m\u001b[37m\u001b[0m \u001b[1m0s\u001b[0m 10ms/step - classification_output_accuracy: 0.5000 - loss: 3.0794 - regression_output_mae: 1.0955\n"
     ]
    }
   ],
   "source": [
    "import keras_core as keras\n",
    "from keras_core import layers, models, Input\n",
    "\n",
    "# --- Multi-task feedforward netwerk ---\n",
    "def MultiTaskFFNN(input_dim=10, shared_dim=64, task1_dim=32, task2_dim=32, num_classes=3):\n",
    "    # Input layer\n",
    "    inputs = Input(shape=(input_dim,), name=\"input_layer\")\n",
    "    \n",
    "    # Shared layers\n",
    "    x = layers.Dense(shared_dim, activation='relu')(inputs)\n",
    "    x = layers.Dense(shared_dim, activation='relu')(x)\n",
    "    \n",
    "    # Taakspecifieke layers\n",
    "    # Task 1: regressie\n",
    "    t1 = layers.Dense(task1_dim, activation='relu')(x)\n",
    "    t1_out = layers.Dense(1, name=\"regression_output\")(t1)\n",
    "    \n",
    "    # Task 2: classificatie\n",
    "    t2 = layers.Dense(task2_dim, activation='relu')(x)\n",
    "    t2_out = layers.Dense(num_classes, activation='softmax', name=\"classification_output\")(t2)\n",
    "    \n",
    "    # Model\n",
    "    model = models.Model(inputs=inputs, outputs=[t1_out, t2_out])\n",
    "    return model\n",
    "\n",
    "# --- Model initialiseren ---\n",
    "input_dim = 10\n",
    "num_classes = 3\n",
    "model = MultiTaskFFNN(input_dim=input_dim, num_classes=num_classes)\n",
    "model.summary()\n",
    "\n",
    "# --- Voorbeeld data ---\n",
    "import numpy as np\n",
    "batch_size = 4\n",
    "x = np.random.randn(batch_size, input_dim)\n",
    "y_reg = np.random.randn(batch_size, 1)\n",
    "y_class = np.random.randint(0, num_classes, size=(batch_size,))\n",
    "\n",
    "# --- Model compileren ---\n",
    "model.compile(\n",
    "    optimizer='adam',\n",
    "    loss={\n",
    "        \"regression_output\": \"mse\",\n",
    "        \"classification_output\": \"sparse_categorical_crossentropy\"\n",
    "    },\n",
    "    metrics={\n",
    "        \"regression_output\": [\"mae\"],\n",
    "        \"classification_output\": [\"accuracy\"]\n",
    "    }\n",
    ")\n",
    "\n",
    "# --- Model trainen ---\n",
    "model.fit(x, {\"regression_output\": y_reg, \"classification_output\": y_class}, epochs=5)\n",
    "\n",
    "model_keras = model"
   ]
  },
  {
   "cell_type": "markdown",
   "metadata": {},
   "source": [
    "## Visualisatie van model architecturen\n",
    "\n",
    "Er zijn heel wat verschillende manieren om de netwerkarchitectuur te visualiseren om goed te begrijpen wat er gebeurd.\n",
    "Hieronder staan er een aantal voorbeelden voor\n",
    "\n",
    "**PYTORCH**"
   ]
  },
  {
   "cell_type": "code",
   "execution_count": 5,
   "metadata": {},
   "outputs": [
    {
     "name": "stdout",
     "output_type": "stream",
     "text": [
      "MultiTaskFFNN(\n",
      "  (shared): Sequential(\n",
      "    (0): Linear(in_features=10, out_features=64, bias=True)\n",
      "    (1): ReLU()\n",
      "    (2): Linear(in_features=64, out_features=64, bias=True)\n",
      "    (3): ReLU()\n",
      "  )\n",
      "  (task1): Sequential(\n",
      "    (0): Linear(in_features=64, out_features=32, bias=True)\n",
      "    (1): ReLU()\n",
      "    (2): Linear(in_features=32, out_features=1, bias=True)\n",
      "  )\n",
      "  (task2): Sequential(\n",
      "    (0): Linear(in_features=64, out_features=32, bias=True)\n",
      "    (1): ReLU()\n",
      "    (2): Linear(in_features=32, out_features=3, bias=True)\n",
      "  )\n",
      ")\n"
     ]
    }
   ],
   "source": [
    "# print model\n",
    "print(model_pytorch)"
   ]
  },
  {
   "cell_type": "code",
   "execution_count": 6,
   "metadata": {},
   "outputs": [
    {
     "data": {
      "text/plain": [
       "==========================================================================================\n",
       "Layer (type:depth-idx)                   Output Shape              Param #\n",
       "==========================================================================================\n",
       "MultiTaskFFNN                            [4, 1]                    --\n",
       "├─Sequential: 1-1                        [4, 64]                   --\n",
       "│    └─Linear: 2-1                       [4, 64]                   704\n",
       "│    └─ReLU: 2-2                         [4, 64]                   --\n",
       "│    └─Linear: 2-3                       [4, 64]                   4,160\n",
       "│    └─ReLU: 2-4                         [4, 64]                   --\n",
       "├─Sequential: 1-2                        [4, 1]                    --\n",
       "│    └─Linear: 2-5                       [4, 32]                   2,080\n",
       "│    └─ReLU: 2-6                         [4, 32]                   --\n",
       "│    └─Linear: 2-7                       [4, 1]                    33\n",
       "├─Sequential: 1-3                        [4, 3]                    --\n",
       "│    └─Linear: 2-8                       [4, 32]                   2,080\n",
       "│    └─ReLU: 2-9                         [4, 32]                   --\n",
       "│    └─Linear: 2-10                      [4, 3]                    99\n",
       "==========================================================================================\n",
       "Total params: 9,156\n",
       "Trainable params: 9,156\n",
       "Non-trainable params: 0\n",
       "Total mult-adds (M): 0.04\n",
       "==========================================================================================\n",
       "Input size (MB): 0.00\n",
       "Forward/backward pass size (MB): 0.01\n",
       "Params size (MB): 0.04\n",
       "Estimated Total Size (MB): 0.04\n",
       "=========================================================================================="
      ]
     },
     "execution_count": 6,
     "metadata": {},
     "output_type": "execute_result"
    }
   ],
   "source": [
    "# print summary\n",
    "from torchinfo import summary\n",
    "\n",
    "summary(model_pytorch, input_size=(4,10))"
   ]
  },
  {
   "cell_type": "code",
   "execution_count": 7,
   "metadata": {},
   "outputs": [
    {
     "name": "stdout",
     "output_type": "stream",
     "text": [
      " <Functional name=functional_3, built=True>\n",
      "torch_params ParameterList(\n",
      "    (0): Parameter containing: [torch.float32 of size 10x64 (cuda:0)]\n",
      "    (1): Parameter containing: [torch.float32 of size 64 (cuda:0)]\n",
      "    (2): Parameter containing: [torch.float32 of size 64x64 (cuda:0)]\n",
      "    (3): Parameter containing: [torch.float32 of size 64 (cuda:0)]\n",
      "    (4): Parameter containing: [torch.float32 of size 64x32 (cuda:0)]\n",
      "    (5): Parameter containing: [torch.float32 of size 32 (cuda:0)]\n",
      "    (6): Parameter containing: [torch.float32 of size 64x32 (cuda:0)]\n",
      "    (7): Parameter containing: [torch.float32 of size 32 (cuda:0)]\n",
      "    (8): Parameter containing: [torch.float32 of size 32x1 (cuda:0)]\n",
      "    (9): Parameter containing: [torch.float32 of size 1 (cuda:0)]\n",
      "    (10): Parameter containing: [torch.float32 of size 32x3 (cuda:0)]\n",
      "    (11): Parameter containing: [torch.float32 of size 3 (cuda:0)]\n",
      ")\n"
     ]
    }
   ],
   "source": [
    "# print each layer\n",
    "for name, layer in model.named_modules():\n",
    "    print(name, layer)"
   ]
  },
  {
   "cell_type": "code",
   "execution_count": 8,
   "metadata": {},
   "outputs": [
    {
     "data": {
      "text/plain": [
       "'model_graph_combined.png'"
      ]
     },
     "execution_count": 8,
     "metadata": {},
     "output_type": "execute_result"
    }
   ],
   "source": [
    "# make figure of the architecture\n",
    "from torchviz import make_dot\n",
    "\n",
    "x = torch.randn(1, 10, requires_grad=True)\n",
    "x = x.to(\"cuda\")\n",
    "y1, y2 = model_pytorch(x)\n",
    "\n",
    "combined = torch.cat([y1, y2.float()], dim=1)  # y2 naar float bij classificatie logits\n",
    "dot = make_dot(combined, params=dict(model.named_parameters()))\n",
    "dot.render(\"model_graph_combined\", format=\"png\") # kan verduidelijkt worden door:  with torch.autograd.profiler.record_function(\"shared\") in de forward functie om stappen te combineren"
   ]
  },
  {
   "cell_type": "markdown",
   "metadata": {},
   "source": [
    "**KERAS**"
   ]
  },
  {
   "cell_type": "code",
   "execution_count": 13,
   "metadata": {},
   "outputs": [
    {
     "data": {
      "text/html": [
       "<pre style=\"white-space:pre;overflow-x:auto;line-height:normal;font-family:Menlo,'DejaVu Sans Mono',consolas,'Courier New',monospace\"><span style=\"font-weight: bold\">Model: \"functional_3\"</span>\n",
       "</pre>\n"
      ],
      "text/plain": [
       "\u001b[1mModel: \"functional_3\"\u001b[0m\n"
      ]
     },
     "metadata": {},
     "output_type": "display_data"
    },
    {
     "data": {
      "text/html": [
       "<pre style=\"white-space:pre;overflow-x:auto;line-height:normal;font-family:Menlo,'DejaVu Sans Mono',consolas,'Courier New',monospace\">┏━━━━━━━━━━━━━━━━━━━━━┳━━━━━━━━━━━━━━━━━━━┳━━━━━━━━━┳━━━━━━━━━━━━━━━━━━━━━━┓\n",
       "┃<span style=\"font-weight: bold\"> Layer (type)        </span>┃<span style=\"font-weight: bold\"> Output Shape      </span>┃<span style=\"font-weight: bold\"> Param # </span>┃<span style=\"font-weight: bold\"> Connected to         </span>┃\n",
       "┡━━━━━━━━━━━━━━━━━━━━━╇━━━━━━━━━━━━━━━━━━━╇━━━━━━━━━╇━━━━━━━━━━━━━━━━━━━━━━┩\n",
       "│ input_layer         │ (<span style=\"color: #00d7ff; text-decoration-color: #00d7ff\">None</span>, <span style=\"color: #00af00; text-decoration-color: #00af00\">10</span>)        │       <span style=\"color: #00af00; text-decoration-color: #00af00\">0</span> │ -                    │\n",
       "│ (<span style=\"color: #0087ff; text-decoration-color: #0087ff\">InputLayer</span>)        │                   │         │                      │\n",
       "├─────────────────────┼───────────────────┼─────────┼──────────────────────┤\n",
       "│ dense_5 (<span style=\"color: #0087ff; text-decoration-color: #0087ff\">Dense</span>)     │ (<span style=\"color: #00d7ff; text-decoration-color: #00d7ff\">None</span>, <span style=\"color: #00af00; text-decoration-color: #00af00\">64</span>)        │     <span style=\"color: #00af00; text-decoration-color: #00af00\">704</span> │ input_layer[<span style=\"color: #00af00; text-decoration-color: #00af00\">0</span>][<span style=\"color: #00af00; text-decoration-color: #00af00\">0</span>]    │\n",
       "├─────────────────────┼───────────────────┼─────────┼──────────────────────┤\n",
       "│ dense_6 (<span style=\"color: #0087ff; text-decoration-color: #0087ff\">Dense</span>)     │ (<span style=\"color: #00d7ff; text-decoration-color: #00d7ff\">None</span>, <span style=\"color: #00af00; text-decoration-color: #00af00\">64</span>)        │   <span style=\"color: #00af00; text-decoration-color: #00af00\">4,160</span> │ dense_5[<span style=\"color: #00af00; text-decoration-color: #00af00\">0</span>][<span style=\"color: #00af00; text-decoration-color: #00af00\">0</span>]        │\n",
       "├─────────────────────┼───────────────────┼─────────┼──────────────────────┤\n",
       "│ dense_7 (<span style=\"color: #0087ff; text-decoration-color: #0087ff\">Dense</span>)     │ (<span style=\"color: #00d7ff; text-decoration-color: #00d7ff\">None</span>, <span style=\"color: #00af00; text-decoration-color: #00af00\">32</span>)        │   <span style=\"color: #00af00; text-decoration-color: #00af00\">2,080</span> │ dense_6[<span style=\"color: #00af00; text-decoration-color: #00af00\">0</span>][<span style=\"color: #00af00; text-decoration-color: #00af00\">0</span>]        │\n",
       "├─────────────────────┼───────────────────┼─────────┼──────────────────────┤\n",
       "│ dense_8 (<span style=\"color: #0087ff; text-decoration-color: #0087ff\">Dense</span>)     │ (<span style=\"color: #00d7ff; text-decoration-color: #00d7ff\">None</span>, <span style=\"color: #00af00; text-decoration-color: #00af00\">32</span>)        │   <span style=\"color: #00af00; text-decoration-color: #00af00\">2,080</span> │ dense_6[<span style=\"color: #00af00; text-decoration-color: #00af00\">0</span>][<span style=\"color: #00af00; text-decoration-color: #00af00\">0</span>]        │\n",
       "├─────────────────────┼───────────────────┼─────────┼──────────────────────┤\n",
       "│ regression_output   │ (<span style=\"color: #00d7ff; text-decoration-color: #00d7ff\">None</span>, <span style=\"color: #00af00; text-decoration-color: #00af00\">1</span>)         │      <span style=\"color: #00af00; text-decoration-color: #00af00\">33</span> │ dense_7[<span style=\"color: #00af00; text-decoration-color: #00af00\">0</span>][<span style=\"color: #00af00; text-decoration-color: #00af00\">0</span>]        │\n",
       "│ (<span style=\"color: #0087ff; text-decoration-color: #0087ff\">Dense</span>)             │                   │         │                      │\n",
       "├─────────────────────┼───────────────────┼─────────┼──────────────────────┤\n",
       "│ classification_out… │ (<span style=\"color: #00d7ff; text-decoration-color: #00d7ff\">None</span>, <span style=\"color: #00af00; text-decoration-color: #00af00\">3</span>)         │      <span style=\"color: #00af00; text-decoration-color: #00af00\">99</span> │ dense_8[<span style=\"color: #00af00; text-decoration-color: #00af00\">0</span>][<span style=\"color: #00af00; text-decoration-color: #00af00\">0</span>]        │\n",
       "│ (<span style=\"color: #0087ff; text-decoration-color: #0087ff\">Dense</span>)             │                   │         │                      │\n",
       "└─────────────────────┴───────────────────┴─────────┴──────────────────────┘\n",
       "</pre>\n"
      ],
      "text/plain": [
       "┏━━━━━━━━━━━━━━━━━━━━━┳━━━━━━━━━━━━━━━━━━━┳━━━━━━━━━┳━━━━━━━━━━━━━━━━━━━━━━┓\n",
       "┃\u001b[1m \u001b[0m\u001b[1mLayer (type)       \u001b[0m\u001b[1m \u001b[0m┃\u001b[1m \u001b[0m\u001b[1mOutput Shape     \u001b[0m\u001b[1m \u001b[0m┃\u001b[1m \u001b[0m\u001b[1mParam #\u001b[0m\u001b[1m \u001b[0m┃\u001b[1m \u001b[0m\u001b[1mConnected to        \u001b[0m\u001b[1m \u001b[0m┃\n",
       "┡━━━━━━━━━━━━━━━━━━━━━╇━━━━━━━━━━━━━━━━━━━╇━━━━━━━━━╇━━━━━━━━━━━━━━━━━━━━━━┩\n",
       "│ input_layer         │ (\u001b[38;5;45mNone\u001b[0m, \u001b[38;5;34m10\u001b[0m)        │       \u001b[38;5;34m0\u001b[0m │ -                    │\n",
       "│ (\u001b[38;5;33mInputLayer\u001b[0m)        │                   │         │                      │\n",
       "├─────────────────────┼───────────────────┼─────────┼──────────────────────┤\n",
       "│ dense_5 (\u001b[38;5;33mDense\u001b[0m)     │ (\u001b[38;5;45mNone\u001b[0m, \u001b[38;5;34m64\u001b[0m)        │     \u001b[38;5;34m704\u001b[0m │ input_layer[\u001b[38;5;34m0\u001b[0m][\u001b[38;5;34m0\u001b[0m]    │\n",
       "├─────────────────────┼───────────────────┼─────────┼──────────────────────┤\n",
       "│ dense_6 (\u001b[38;5;33mDense\u001b[0m)     │ (\u001b[38;5;45mNone\u001b[0m, \u001b[38;5;34m64\u001b[0m)        │   \u001b[38;5;34m4,160\u001b[0m │ dense_5[\u001b[38;5;34m0\u001b[0m][\u001b[38;5;34m0\u001b[0m]        │\n",
       "├─────────────────────┼───────────────────┼─────────┼──────────────────────┤\n",
       "│ dense_7 (\u001b[38;5;33mDense\u001b[0m)     │ (\u001b[38;5;45mNone\u001b[0m, \u001b[38;5;34m32\u001b[0m)        │   \u001b[38;5;34m2,080\u001b[0m │ dense_6[\u001b[38;5;34m0\u001b[0m][\u001b[38;5;34m0\u001b[0m]        │\n",
       "├─────────────────────┼───────────────────┼─────────┼──────────────────────┤\n",
       "│ dense_8 (\u001b[38;5;33mDense\u001b[0m)     │ (\u001b[38;5;45mNone\u001b[0m, \u001b[38;5;34m32\u001b[0m)        │   \u001b[38;5;34m2,080\u001b[0m │ dense_6[\u001b[38;5;34m0\u001b[0m][\u001b[38;5;34m0\u001b[0m]        │\n",
       "├─────────────────────┼───────────────────┼─────────┼──────────────────────┤\n",
       "│ regression_output   │ (\u001b[38;5;45mNone\u001b[0m, \u001b[38;5;34m1\u001b[0m)         │      \u001b[38;5;34m33\u001b[0m │ dense_7[\u001b[38;5;34m0\u001b[0m][\u001b[38;5;34m0\u001b[0m]        │\n",
       "│ (\u001b[38;5;33mDense\u001b[0m)             │                   │         │                      │\n",
       "├─────────────────────┼───────────────────┼─────────┼──────────────────────┤\n",
       "│ classification_out… │ (\u001b[38;5;45mNone\u001b[0m, \u001b[38;5;34m3\u001b[0m)         │      \u001b[38;5;34m99\u001b[0m │ dense_8[\u001b[38;5;34m0\u001b[0m][\u001b[38;5;34m0\u001b[0m]        │\n",
       "│ (\u001b[38;5;33mDense\u001b[0m)             │                   │         │                      │\n",
       "└─────────────────────┴───────────────────┴─────────┴──────────────────────┘\n"
      ]
     },
     "metadata": {},
     "output_type": "display_data"
    },
    {
     "data": {
      "text/html": [
       "<pre style=\"white-space:pre;overflow-x:auto;line-height:normal;font-family:Menlo,'DejaVu Sans Mono',consolas,'Courier New',monospace\"><span style=\"font-weight: bold\"> Total params: </span><span style=\"color: #00af00; text-decoration-color: #00af00\">27,470</span> (107.30 KB)\n",
       "</pre>\n"
      ],
      "text/plain": [
       "\u001b[1m Total params: \u001b[0m\u001b[38;5;34m27,470\u001b[0m (107.30 KB)\n"
      ]
     },
     "metadata": {},
     "output_type": "display_data"
    },
    {
     "data": {
      "text/html": [
       "<pre style=\"white-space:pre;overflow-x:auto;line-height:normal;font-family:Menlo,'DejaVu Sans Mono',consolas,'Courier New',monospace\"><span style=\"font-weight: bold\"> Trainable params: </span><span style=\"color: #00af00; text-decoration-color: #00af00\">9,156</span> (35.77 KB)\n",
       "</pre>\n"
      ],
      "text/plain": [
       "\u001b[1m Trainable params: \u001b[0m\u001b[38;5;34m9,156\u001b[0m (35.77 KB)\n"
      ]
     },
     "metadata": {},
     "output_type": "display_data"
    },
    {
     "data": {
      "text/html": [
       "<pre style=\"white-space:pre;overflow-x:auto;line-height:normal;font-family:Menlo,'DejaVu Sans Mono',consolas,'Courier New',monospace\"><span style=\"font-weight: bold\"> Non-trainable params: </span><span style=\"color: #00af00; text-decoration-color: #00af00\">0</span> (0.00 B)\n",
       "</pre>\n"
      ],
      "text/plain": [
       "\u001b[1m Non-trainable params: \u001b[0m\u001b[38;5;34m0\u001b[0m (0.00 B)\n"
      ]
     },
     "metadata": {},
     "output_type": "display_data"
    },
    {
     "data": {
      "text/html": [
       "<pre style=\"white-space:pre;overflow-x:auto;line-height:normal;font-family:Menlo,'DejaVu Sans Mono',consolas,'Courier New',monospace\"><span style=\"font-weight: bold\"> Optimizer params: </span><span style=\"color: #00af00; text-decoration-color: #00af00\">18,314</span> (71.54 KB)\n",
       "</pre>\n"
      ],
      "text/plain": [
       "\u001b[1m Optimizer params: \u001b[0m\u001b[38;5;34m18,314\u001b[0m (71.54 KB)\n"
      ]
     },
     "metadata": {},
     "output_type": "display_data"
    }
   ],
   "source": [
    "model_keras.summary()"
   ]
  },
  {
   "cell_type": "code",
   "execution_count": 14,
   "metadata": {},
   "outputs": [
    {
     "name": "stdout",
     "output_type": "stream",
     "text": [
      "<InputLayer name=input_layer, built=True>\n",
      "<Dense name=dense_5, built=True>\n",
      "<Dense name=dense_6, built=True>\n",
      "<Dense name=dense_7, built=True>\n",
      "<Dense name=dense_8, built=True>\n",
      "<Dense name=regression_output, built=True>\n",
      "<Dense name=classification_output, built=True>\n"
     ]
    }
   ],
   "source": [
    "for layer in model_keras.layers:\n",
    "    print(layer)"
   ]
  },
  {
   "cell_type": "code",
   "execution_count": 15,
   "metadata": {},
   "outputs": [
    {
     "data": {
      "image/png": "[encoded data removed]",
      "text/plain": [
       "<IPython.core.display.Image object>"
      ]
     },
     "execution_count": 15,
     "metadata": {},
     "output_type": "execute_result"
    }
   ],
   "source": [
    "from keras_core.utils import plot_model\n",
    "\n",
    "plot_model(model_keras, to_file=\"model.png\", show_shapes=True, show_layer_names=True)"
   ]
  },
  {
   "cell_type": "markdown",
   "metadata": {},
   "source": [
    "## Oefening - multitask\n",
    "\n",
    "Ga aan de slag met [de wine-quality dataset](https://www.kaggle.com/datasets/uciml/red-wine-quality-cortez-et-al-2009).\n",
    "Je kan de dataset downloaden met kagglehub of manueel.\n",
    "\n",
    "De op te lossen taken met deze dataset zijn:\n",
    "\n",
    "* Taak 1: Voorspel de kwaliteit (quality) als integer score 0–10 → classificatie of regressie (kan als beiden)\n",
    "* Taak 2: Voorspel of de wijn goed is of slecht (bijvoorbeeld quality >= 6) → binary classification\n",
    "\n",
    "Voer hieronder de volgende stappen uit en train zowel een pytorch model als een keras model:\n",
    "\n",
    "* Data inspecteren: bekijk statistieken, histogram van kwaliteit en good/bad labels.\n",
    "* Preprocessing: normalisatie van features.\n",
    "* Split train/test.\n",
    "* Model bouwen:\n",
    "  * Shared layers\n",
    "  * Task-specific heads (regression + binary)\n",
    "* Loss functies instellen (MSE voor regressie, BCE voor classificatie)\n",
    "* Train model\n",
    "* Evalueer prestaties op beide taken (MAE voor regressie, accuracy voor binary)"
   ]
  },
  {
   "cell_type": "code",
   "execution_count": null,
   "metadata": {},
   "outputs": [],
   "source": [
    "# data voorbereiden\n",
    "import pandas as pd\n",
    "import numpy as np\n",
    "from sklearn.model_selection import train_test_split\n",
    "import kagglehub\n",
    "\n",
    "# Load dataset\n",
    "path = kagglehub.dataset_download(\"uciml/red-wine-quality-cortez-et-al-2009\")\n",
    "df = pd.read_csv(f\"{path}/winequality-red.csv\", sep=\",\")\n",
    "\n",
    "display(df.head())\n",
    "\n",
    "# Maak een binary target voor task 2\n",
    "df['good_quality'] = (df['quality'] >= 6).astype(int)\n",
    "\n",
    "# Features en targets\n",
    "features = df.drop(columns=['quality', 'good_quality'])\n",
    "target_quality = df['quality'].values  # Task 1: regressie or classification\n",
    "target_good = df['good_quality'].values  # Task 2: binary\n",
    "\n",
    "# Split train/test\n",
    "X_train, X_test, y_quality_train, y_quality_test, y_good_train, y_good_test = train_test_split(\n",
    "    features.values.astype(\"float32\"),\n",
    "    target_quality.astype(\"float32\"),\n",
    "    target_good.astype(\"float32\"),\n",
    "    test_size=0.2,\n",
    "    random_state=42\n",
    ")\n"
   ]
  },
  {
   "cell_type": "code",
   "execution_count": null,
   "metadata": {},
   "outputs": [],
   "source": [
    "# dataloaders\n",
    "import torch\n",
    "import torch.nn as nn\n",
    "from torch.utils.data import Dataset, DataLoader\n",
    "\n",
    "class WineDataset(Dataset):\n",
    "    def __init__(self, X, y1, y2):\n",
    "        self.X = torch.tensor(X, dtype=torch.float32)\n",
    "        self.y1 = torch.tensor(y1, dtype=torch.float32).unsqueeze(1)\n",
    "        self.y2 = torch.tensor(y2, dtype=torch.float32).unsqueeze(1)\n",
    "    def __len__(self):\n",
    "        return len(self.X)\n",
    "    def __getitem__(self, idx):\n",
    "        return self.X[idx], self.y1[idx], self.y2[idx]\n",
    "\n",
    "train_dataset = WineDataset(X_train, y_quality_train, y_good_train)\n",
    "train_loader = DataLoader(train_dataset, batch_size=32, shuffle=True)\n",
    "\n",
    "test_dataset = WineDataset(X_test, y_quality_test, y_good_test)\n",
    "test_loader = DataLoader(train_dataset, batch_size=32, shuffle=True)\n"
   ]
  },
  {
   "cell_type": "code",
   "execution_count": null,
   "metadata": {},
   "outputs": [],
   "source": [
    "class MultiTaskWineNN(nn.Module):\n",
    "    def __init__(self, input_dim):\n",
    "        super().__init__()\n",
    "        self.shared = nn.Sequential(\n",
    "            nn.Linear(input_dim, 64),\n",
    "            nn.ReLU(),\n",
    "            nn.Linear(64, 32),\n",
    "            nn.ReLU()\n",
    "        )\n",
    "        self.regression_head = nn.Linear(32, 1)\n",
    "        self.binary_head = nn.Linear(32, 1)\n",
    "    def forward(self, x):\n",
    "        x = self.shared(x)\n",
    "        return self.regression_head(x), torch.sigmoid(self.binary_head(x))\n"
   ]
  },
  {
   "cell_type": "code",
   "execution_count": null,
   "metadata": {},
   "outputs": [],
   "source": [
    "device = \"cuda\" if torch.cuda.is_available() else \"cpu\"\n",
    "model = MultiTaskWineNN(input_dim=X_train.shape[1]).to(device)\n",
    "\n",
    "criterion_reg = nn.MSELoss()\n",
    "criterion_bin = nn.BCELoss()\n",
    "optimizer = torch.optim.Adam(model.parameters(), lr=0.001)\n",
    "\n",
    "# -----------------------------\n",
    "# 5. Training loop\n",
    "# -----------------------------\n",
    "epochs = 20\n",
    "\n",
    "for epoch in range(epochs):\n",
    "    model.train()\n",
    "    running_loss = 0.0\n",
    "    for X_batch, y_reg, y_bin in train_loader:\n",
    "        X_batch = X_batch.to(device)\n",
    "        y_reg = y_reg.to(device)\n",
    "        y_bin = y_bin.to(device)\n",
    "        \n",
    "        optimizer.zero_grad()\n",
    "        pred_reg, pred_bin = model(X_batch)\n",
    "        \n",
    "        loss_reg = criterion_reg(pred_reg, y_reg)\n",
    "        loss_bin = criterion_bin(pred_bin, y_bin)\n",
    "        loss = loss_reg + loss_bin\n",
    "        \n",
    "        loss.backward()\n",
    "        optimizer.step()\n",
    "        \n",
    "        running_loss += loss.item() * X_batch.size(0)\n",
    "    \n",
    "    epoch_loss = running_loss / len(train_loader.dataset)\n",
    "    \n",
    "    # Evaluate on test set\n",
    "    model.eval()\n",
    "    with torch.no_grad():\n",
    "        test_loss = 0.0\n",
    "        correct_bin = 0\n",
    "        total_bin = 0\n",
    "        for X_batch, y_reg, y_bin in test_loader:\n",
    "            X_batch = X_batch.to(device)\n",
    "            y_reg = y_reg.to(device)\n",
    "            y_bin = y_bin.to(device)\n",
    "            \n",
    "            pred_reg, pred_bin = model(X_batch)\n",
    "            loss_reg = criterion_reg(pred_reg, y_reg)\n",
    "            loss_bin = criterion_bin(pred_bin, y_bin)\n",
    "            loss = loss_reg + loss_bin\n",
    "            test_loss += loss.item() * X_batch.size(0)\n",
    "            \n",
    "            predicted = (pred_bin > 0.5).float()\n",
    "            correct_bin += (predicted == y_bin).sum().item()\n",
    "            total_bin += y_bin.size(0)\n",
    "    \n",
    "    test_loss /= len(test_loader.dataset)\n",
    "    test_acc = correct_bin / total_bin\n",
    "    print(f\"Epoch {epoch+1}/{epochs} - Train Loss: {epoch_loss:.4f} - Test Loss: {test_loss:.4f} - Test Binary Acc: {test_acc:.4f}\")"
   ]
  },
  {
   "cell_type": "markdown",
   "metadata": {},
   "source": [
    "**Met Keras**"
   ]
  },
  {
   "cell_type": "code",
   "execution_count": null,
   "metadata": {},
   "outputs": [],
   "source": [
    "# bouw en train model with keras"
   ]
  },
  {
   "cell_type": "code",
   "execution_count": null,
   "metadata": {},
   "outputs": [],
   "source": []
  }
 ],
 "metadata": {
  "colab": {
   "collapsed_sections": [],
   "name": "pandas_dataframe.ipynb",
   "toc_visible": true
  },
  "kernelspec": {
   "display_name": "Python 3 (ipykernel)",
   "language": "python",
   "name": "python3"
  },
  "language_info": {
   "codemirror_mode": {
    "name": "ipython",
    "version": 3
   },
   "file_extension": ".py",
   "mimetype": "text/x-python",
   "name": "python",
   "nbconvert_exporter": "python",
   "pygments_lexer": "ipython3",
   "version": "3.10.13"
  }
 },
 "nbformat": 4,
 "nbformat_minor": 4
}
