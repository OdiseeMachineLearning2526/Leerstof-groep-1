{
 "cells": [
  {
   "cell_type": "markdown",
   "id": "58c74e71-f410-4d14-9991-013701c8463b",
   "metadata": {},
   "source": [
    "# Callbacks\n",
    "\n",
    "Er zijn heel wat extra functionaliteiten die je kan toevoegen aan het trainingsproces.\n",
    "De meestgebruikte zijn: \n",
    "* EarlyStopping\n",
    "* ModelCheckpoint\n",
    "* Tensorboard\n",
    "* LearningRate schedulers\n",
    "\n",
    "Ook kan je custom callback functions maken om je eigen functionaliteiten toe te voegen.\n",
    "\n",
    "In de klassieke pytorch manier schrijf je je eigen trainings-lus en is het dus eenvoudig om alle gewenste code toe te voegen. \n",
    "De efficientere manier om modellen te bouwen via Keras abstraheerd echter de trainingslus en train je door middel van de fit()-methode.\n",
    "Deze manier maakt het echter onmogelijk om extra functionaliteiten toe te voegen. \n",
    "\n",
    "Hieronder vind je een voorbeeld van hoe je callbacks kan toevoegen aan een model gebouwd met keras op een pytorch backend"
   ]
  },
  {
   "cell_type": "code",
   "execution_count": null,
   "id": "92cc4cee-f1c2-4d70-8ef1-1805be6ee875",
   "metadata": {},
   "outputs": [],
   "source": []
  },
  {
   "cell_type": "markdown",
   "id": "d8aa9af5-780c-4288-91b3-8b40658baaca",
   "metadata": {},
   "source": [
    "# Dashboard for opvolgen experimenten, evaluaties, ....\n",
    "\n",
    "Hieronder staat een voorbeelden van hoe een dashboard kan gebruikt worden met pytorch.\n",
    "Ik heb hieronder gekozen voor wandb (weights and biases) maar alternatieven zijn tensorboard, mlflow, visdom, ..."
   ]
  },
  {
   "cell_type": "code",
   "execution_count": null,
   "id": "7d9efa3a-a1d4-4f13-99a6-1e3201c44406",
   "metadata": {},
   "outputs": [],
   "source": []
  },
  {
   "cell_type": "markdown",
   "id": "a4b9d1ea-adce-4617-ba73-ae7635f1d3cd",
   "metadata": {},
   "source": [
    "Door bovenstaande code uit te voeren wordt een map aangemaakt waar de nodige logs in bewaard worden.\n",
    "Deze kunnen daarna gevisualiseerd worden met behulp van het volgende terminal-commando.\n",
    "In de output van het commando krijg je een url te zien met de link waar je de tensorboard applicatie kan bekijken.\n",
    "Met de standaardconfiguratie van de docker container moet je de applicatie kunnen bereiken via de link [localhost:6006](http://localhost:6006)"
   ]
  },
  {
   "cell_type": "code",
   "execution_count": null,
   "id": "f9dec46c-914f-4fe3-86f1-15634a8f3d49",
   "metadata": {},
   "outputs": [],
   "source": []
  },
  {
   "cell_type": "code",
   "execution_count": null,
   "id": "7650d2eb-0935-452f-9277-7487435d6311",
   "metadata": {},
   "outputs": [],
   "source": []
  }
 ],
 "metadata": {
  "kernelspec": {
   "display_name": "Python 3 (ipykernel)",
   "language": "python",
   "name": "python3"
  },
  "language_info": {
   "codemirror_mode": {
    "name": "ipython",
    "version": 3
   },
   "file_extension": ".py",
   "mimetype": "text/x-python",
   "name": "python",
   "nbconvert_exporter": "python",
   "pygments_lexer": "ipython3",
   "version": "3.10.13"
  }
 },
 "nbformat": 4,
 "nbformat_minor": 5
}
