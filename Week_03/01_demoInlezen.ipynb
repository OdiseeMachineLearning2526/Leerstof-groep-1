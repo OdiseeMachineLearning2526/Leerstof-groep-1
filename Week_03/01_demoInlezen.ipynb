{
 "cells": [
  {
   "cell_type": "markdown",
   "id": "9d251577",
   "metadata": {},
   "source": [
    "# Computervisie\n",
    "\n",
    "In deze week gaan we vooral focussen op een aantal technieken om te werken met visuele inputs.\n",
    "Als eerste gaan we een aantal technieken zien hoe je deze data op een eenvoudige manier kan inlezen en verwerken.\n",
    "Daarna gaan we een aantal veelgebruikte technieken zijn om meer data aan te maken via varianten van bestaande data.\n",
    "Ten slotte ga je leren hoe je op een efficiente manier modellen kan trainen om classificatie of regressie uit te voeren op een dataset van beelden.\n",
    "\n",
    "## Data inlezen\n",
    "\n",
    "Vorige week heb je geleerd om gestructureerde data in te lezen uit csv-bestanden.\n",
    "Om datasets voor computervisie in te lezen is het vaak complexer omdat typisch elke input in een aparte file staat (1 per beeldje).\n",
    "Het label/target van de figuur kan dan in een csv-bestand staan, in de naam van het bestand of folder staan.\n",
    "Hoe deze data ingeladen wordt hangt dus af van de dataset.\n",
    "In deze notebook staan een aantal voorbeelden om dit te doen met pytorch en met keras.\n",
    "\n",
    "### Pytorch\n",
    "\n",
    "Hieronder staan de meest voorkomende voorbeelden om dit te doen met pytorch:\n",
    "* Veel gebruikte klassieke datasets vind je in de torchvision package, meer bepaald onder datasets.\n",
    "* Via de ImageFolder klasse in het geval dat elke klasse in een aparte subfolder aanwezig is\n",
    "* Je maakt een eigen custom-dataset klasse dat bepaald hoe de figuren ingeladen worden en wat hun label is.\n",
    "\n",
    "Hieronder staan code-voorbeelden van deze technieken"
   ]
  },
  {
   "cell_type": "code",
   "execution_count": null,
   "id": "e221cf6f",
   "metadata": {},
   "outputs": [],
   "source": []
  },
  {
   "cell_type": "code",
   "execution_count": null,
   "id": "f81063ee",
   "metadata": {},
   "outputs": [],
   "source": []
  },
  {
   "cell_type": "code",
   "execution_count": null,
   "id": "40446842",
   "metadata": {},
   "outputs": [],
   "source": []
  },
  {
   "cell_type": "markdown",
   "id": "18b2e389-352b-43a6-abbb-c969d2697278",
   "metadata": {},
   "source": [
    "### Keras\n",
    "\n",
    "De technieken in Keras om dit uit te voeren zijn gelijkaardig.\n",
    "\n",
    "Hieronder staan de meest voorkomende voorbeelden om dit te doen met pytorch:\n",
    "* Veel gebruikte klassieke datasets vind je in de torchvision package, meer bepaald onder datasets.\n",
    "* Via de ImageFolder klasse in het geval dat elke klasse in een aparte subfolder aanwezig is\n",
    "* Je maakt een eigen custom-dataset klasse dat bepaald hoe de figuren ingeladen worden en wat hun label is.\n",
    "\n",
    "Hieronder staan code-voorbeelden van deze technieken"
   ]
  },
  {
   "cell_type": "code",
   "execution_count": null,
   "id": "7fd3300e-2a6d-4f79-a90f-7e3d576f8403",
   "metadata": {},
   "outputs": [],
   "source": []
  },
  {
   "cell_type": "code",
   "execution_count": null,
   "id": "72b67a5b-09e8-44e0-9987-469580862985",
   "metadata": {},
   "outputs": [],
   "source": []
  },
  {
   "cell_type": "code",
   "execution_count": null,
   "id": "32057579-46f6-4ca6-baf5-faf17caad746",
   "metadata": {},
   "outputs": [],
   "source": []
  }
 ],
 "metadata": {
  "kernelspec": {
   "display_name": "Python 3 (ipykernel)",
   "language": "python",
   "name": "python3"
  },
  "language_info": {
   "codemirror_mode": {
    "name": "ipython",
    "version": 3
   },
   "file_extension": ".py",
   "mimetype": "text/x-python",
   "name": "python",
   "nbconvert_exporter": "python",
   "pygments_lexer": "ipython3",
   "version": "3.10.13"
  },
  "vscode": {
   "interpreter": {
    "hash": "d5e8e3a19af5ceb2434683dff87da6345c3b29f7eb0a8a138558c07d014a01cc"
   }
  }
 },
 "nbformat": 4,
 "nbformat_minor": 5
}
