{
 "cells": [
  {
   "cell_type": "markdown",
   "id": "429d571c",
   "metadata": {},
   "source": [
    "# Neuraal netwerk oefening: Nintendo games\n",
    "\n",
    "In deze opgave gaan we een aantal eenvoudige neurale netwerken maken om de basisfunctionaliteit in te oefenen van Torch en Keras. Hierbij focussen we vooral op de processing stappen, het opstellen van de netwerkarchitectuur en de trainingsstap.\n",
    "Het is hierbij niet noodzakelijk om op zoek te gaan naar de beste architectuur.\n",
    "\n",
    "**Dien de opgave in door het te pushen naar de main branch op github en vergeet niet op de vragen te beantwoorden. Laat je output staan om eenvoudiger je resultaten te kunnen verifieren. Vergeet ook de vragen niet te beantwoorden**\n",
    "\n",
    "## Downloaden en inladen data\n",
    "\n",
    "Schrijf in onderstaande cell alle uit te voeren imports die nodig zijn doorheen deze notebook."
   ]
  },
  {
   "cell_type": "code",
   "execution_count": 82,
   "id": "779c1a4c",
   "metadata": {},
   "outputs": [],
   "source": [
    "# Schrijf alle imports in deze blok"
   ]
  },
  {
   "cell_type": "code",
   "execution_count": null,
   "id": "1e265ba4",
   "metadata": {},
   "outputs": [],
   "source": [
    "!pip install kagglehub"
   ]
  },
  {
   "cell_type": "markdown",
   "id": "f63aac1d",
   "metadata": {},
   "source": [
    "In deze opgave maken we gebruik van een dataset over Nintendo games.\n",
    "We gaan deze dataset gebruiken om de gebrukersscore te voorspellen die een bepaald spel gaat behalen.\n",
    "\n",
    "Maak gebruik van de tensorflow get_file om de volgende file te downloaden:\n",
    "* https://www.kaggle.com/datasets/joebeachcapital/nintendo-games\n",
    "\n",
    "Dit is een dataset van kaggle dus gebruik de opendatasets library zoals gezien in data science"
   ]
  },
  {
   "cell_type": "code",
   "execution_count": null,
   "id": "b4eacc19",
   "metadata": {},
   "outputs": [
    {
     "name": "stdout",
     "output_type": "stream",
     "text": [
      "Warning: Looks like you're using an outdated `kagglehub` version (installed: 0.3.12), please consider upgrading to the latest version (0.3.13).\n",
      "Downloading from https://www.kaggle.com/api/v1/datasets/download/joebeachcapital/nintendo-games?dataset_version_number=1...\n"
     ]
    },
    {
     "name": "stderr",
     "output_type": "stream",
     "text": [
      "100%|██████████| 36.3k/36.3k [00:00<00:00, 7.40MB/s]"
     ]
    },
    {
     "name": "stdout",
     "output_type": "stream",
     "text": [
      "Extracting files...\n"
     ]
    },
    {
     "name": "stderr",
     "output_type": "stream",
     "text": [
      "\n"
     ]
    },
    {
     "ename": "NameError",
     "evalue": "name 'pd' is not defined",
     "output_type": "error",
     "traceback": [
      "\u001b[1;31m---------------------------------------------------------------------------\u001b[0m",
      "\u001b[1;31mNameError\u001b[0m                                 Traceback (most recent call last)",
      "Cell \u001b[1;32mIn[1], line 6\u001b[0m\n\u001b[0;32m      2\u001b[0m \u001b[38;5;28;01mimport\u001b[39;00m \u001b[38;5;21;01mkagglehub\u001b[39;00m\n\u001b[0;32m      4\u001b[0m path \u001b[38;5;241m=\u001b[39m kagglehub\u001b[38;5;241m.\u001b[39mdataset_download(\u001b[38;5;124m'\u001b[39m\u001b[38;5;124mjoebeachcapital/nintendo-games\u001b[39m\u001b[38;5;124m'\u001b[39m) \u001b[38;5;66;03m# het path is waar de dataset gedownload is\u001b[39;00m\n\u001b[1;32m----> 6\u001b[0m \u001b[43mpd\u001b[49m\u001b[38;5;241m.\u001b[39mread_csv(f)\n",
      "\u001b[1;31mNameError\u001b[0m: name 'pd' is not defined"
     ]
    }
   ],
   "source": [
    "# downloaden datasets\n",
    "import kagglehub\n",
    "\n",
    "path = kagglehub.dataset_download('joebeachcapital/nintendo-games') # het path is waar de dataset gedownload is\n",
    "\n",
    "df = pd.read_csv(f\"{path}/NintendoGames.csv\")"
   ]
  },
  {
   "cell_type": "markdown",
   "id": "b0a4ddb8",
   "metadata": {},
   "source": [
    "Lees deze datasets in (met behulp van panda) en als dataframe.\n",
    "Print de eerste 5 rijen uit.\n",
    "\n",
    "**Welke kolommen zijn in deze dataset de features en welke de targets/labels? Welke kolommen zou je niet gebruiken en waarom?**\n",
    "Maak lijsten aan voor de namen van de feature-kolommen en label kolom."
   ]
  },
  {
   "cell_type": "markdown",
   "id": "d7e2249a",
   "metadata": {},
   "source": [
    "Antwoord: ..."
   ]
  },
  {
   "cell_type": "code",
   "execution_count": null,
   "id": "95bd63b0",
   "metadata": {},
   "outputs": [],
   "source": []
  },
  {
   "cell_type": "markdown",
   "id": "fd85b843",
   "metadata": {},
   "source": [
    "## Exploratory Data Analysis\n",
    "\n",
    "Bereken voor de dataset de volgende statistieken met behulp van pandas:\n",
    "* Hoeveel platformen zijn er aanwezig in de dataset\n",
    "* Hoeveel games hebben geen user-score? Drop deze rijen ook.\n",
    "* Maak een figuur om te tonen hoeveel games er ontwikkeld zijn voor elk platform.\n",
    "* Hoeveel null waarden zijn er per kolom? Vul de numerieke kolommen aan met 0 en de categorieke kolommen met 'unknown'.\n",
    "* Is de genres en developer kolom een string of een lijst? Zijn ze beide hetzelfde type? Hoe heb je dit gecontroleerd? Pas de kolommen met de apply-functie aan zodat beide kolommen een tekstveld zijn gesplitst door het ',' symbool.\n",
    "* Hoeveel unieke developers zijn er die nintendo games maken? Wat zijn de 5 developers die aan het meeste games gewerkt hebben? Maak hiervoor een figuur.\n",
    "\n",
    "\n",
    "**Antwoord vraag 5:**"
   ]
  },
  {
   "cell_type": "code",
   "execution_count": null,
   "id": "e1e84193",
   "metadata": {
    "scrolled": true
   },
   "outputs": [],
   "source": [
    "# Vraag 1"
   ]
  },
  {
   "cell_type": "code",
   "execution_count": null,
   "id": "d7dd9b9c",
   "metadata": {},
   "outputs": [],
   "source": [
    "# Vraag 2"
   ]
  },
  {
   "cell_type": "code",
   "execution_count": null,
   "id": "0bcb18c7",
   "metadata": {},
   "outputs": [],
   "source": [
    "# Vraag 3"
   ]
  },
  {
   "cell_type": "code",
   "execution_count": null,
   "id": "2c6cc844",
   "metadata": {},
   "outputs": [],
   "source": [
    "# Vraag 4"
   ]
  },
  {
   "cell_type": "code",
   "execution_count": 1,
   "id": "2994a6e6",
   "metadata": {},
   "outputs": [],
   "source": [
    "# Vraag 5"
   ]
  },
  {
   "cell_type": "code",
   "execution_count": 2,
   "id": "00ebf413",
   "metadata": {},
   "outputs": [],
   "source": [
    "# Vraag 6\n"
   ]
  },
  {
   "cell_type": "markdown",
   "id": "cad9697e",
   "metadata": {},
   "source": [
    "## Preprocessing"
   ]
  },
  {
   "cell_type": "markdown",
   "id": "e07f4852",
   "metadata": {},
   "source": [
    "Voer nu de volgende stappen uit om de beschikbare data zo bruikbaar mogeljk te maken. Voor deze sectie vind je [hier](https://www.tensorflow.org/tutorials/load_data/pandas_dataframe) heel wat extra informatie om dit zo duidelijk mogelijk te maken.\n",
    "* Splits de dataset in training en testdata. Gebruik 10% van de data als testdata. Tip: bekijk de sample functie in pandas. Zorg ervoor dat rijen met ontbrekende waarden niet gebruikt worden.\n",
    "* Maak een trainings- en testdataset aan gebruik makende van de Dataset klasse van PyTorch. Zorg er hierbij voor dat de volgende features gebruikt worden: platform, meta_score, esrb_rating, developers, genres. Natuurlijk moet het target ook meegegeven worden bij het aanmaken van de dataset. Zorg ervoor dat de nodige preprocessing stappen uitgevoerd worden:\n",
    "    * Maak nu de nodige preprocessing stappen aan voor de types data:\n",
    "        * numeriek -> normalisatie\n",
    "        * categoriek -> one-hot encoding\n",
    "        * tekst -> multi-hot encoding\n",
    "* Maak daarna Dataloaders aan en zorg er hierbij voor dat alle elementen geshuffeld worden, maak daarna batches van 4 elementen.\n",
    "\n",
    "**Vraag: Je hebt hiervoor het aantal unieke developers berekend. Kan je uit de figuur afleiden of dit aantal klopt? Hoe doe je dit? Verwijs hierbij naar de gemaakte figuur.**"
   ]
  },
  {
   "cell_type": "markdown",
   "id": "69fd781a",
   "metadata": {},
   "source": [
    "**Antwoord:**"
   ]
  },
  {
   "cell_type": "code",
   "execution_count": null,
   "id": "b5fd064c-66b6-495d-9063-dc246eddd9ef",
   "metadata": {},
   "outputs": [],
   "source": [
    "import torch\n",
    "import pandas as pd\n",
    "from torch.utils.data import Dataset, DataLoader\n",
    "from sklearn.preprocessing import OneHotEncoder, StandardScaler"
   ]
  },
  {
   "cell_type": "markdown",
   "id": "fbcc8df6",
   "metadata": {},
   "source": [
    "## Modelling\n",
    "\n",
    "Maak nu met behulp van **Pytorch** de volgende modellen aan, train ze en evalueer ze aan de hand van de trainingsdata:\n",
    "* Lineaire regressie\n",
    "* Neuraal netwerk bestaande uit 1 hidden laag met 3 neuronen\n",
    "* Neuraal netwerk bestaande uit 3 hidden lagen met respectievelijk 10, 5 en 5 neuronen.\n",
    "* Neuraal netwerk bestaande uit 3 hidden lagen met respectievelijk 10, 5 en 5 neuronen met dropout.\n",
    "* Neuraal netwerk bestaande uit 3 hidden lagen met respectievelijk 10, 5 en 5 neuronen met L1 regularisatie.\n",
    "* Neuraal netwerk bestaande uit 3 hidden lagen met respectievelijk 10, 5 en 5 neuronen met L2 regularisatie.\n",
    "\n",
    "Maak zoveel mogelijk gebruik van functies om repititieve zaken te verbergen.\n",
    "Maak daarnaast ook gebruik van de **plot_loss** functie om de geschiedenis van het trainen te visualiseren.\n",
    "\n",
    "**Bespreek hieronder je observaties. Welke loss functie heb je gebruikt? Waarom heb je voor deze functie gekozen? Welke hyperparameters heb je uitgeprobeerd? Welk model werkt goed, welk niet? Welk is aan het overfitten, welk aan het underfitten? Bespreek de gebruikte parameters van de verschillende lagen van het laatste model. Waarom heb je de waarde gekozen voor die parameters?\n",
    "Verwijs hierbij naar de figuren en de behaalde loss-waarden voor de testdata.**"
   ]
  },
  {
   "cell_type": "markdown",
   "id": "e75f4904",
   "metadata": {},
   "source": [
    "Antwoord ..."
   ]
  },
  {
   "cell_type": "code",
   "execution_count": 131,
   "id": "839e102e",
   "metadata": {},
   "outputs": [],
   "source": [
    "# Plot loss over epochs\n",
    "import torch\n",
    "import torch.nn as nn\n",
    "import torch.optim as optim\n",
    "\n",
    "def plot_loss(loss_history):\n",
    "    plt.plot(loss_history, label=\"Training Loss\")\n",
    "    plt.xlabel(\"Epochs\")\n",
    "    plt.ylabel(\"Loss\")\n",
    "    plt.legend()\n",
    "    plt.show()"
   ]
  },
  {
   "cell_type": "code",
   "execution_count": 132,
   "id": "1bfb41ca",
   "metadata": {},
   "outputs": [],
   "source": []
  },
  {
   "cell_type": "code",
   "execution_count": null,
   "id": "794c919e",
   "metadata": {},
   "outputs": [],
   "source": []
  },
  {
   "cell_type": "code",
   "execution_count": null,
   "id": "507d41e7",
   "metadata": {},
   "outputs": [],
   "source": []
  },
  {
   "cell_type": "code",
   "execution_count": null,
   "id": "967e0d28",
   "metadata": {},
   "outputs": [],
   "source": []
  },
  {
   "cell_type": "code",
   "execution_count": null,
   "id": "48892e2b",
   "metadata": {},
   "outputs": [],
   "source": []
  },
  {
   "cell_type": "code",
   "execution_count": null,
   "id": "9c72a566",
   "metadata": {},
   "outputs": [],
   "source": []
  },
  {
   "cell_type": "code",
   "execution_count": null,
   "id": "31551de4",
   "metadata": {},
   "outputs": [],
   "source": []
  },
  {
   "cell_type": "code",
   "execution_count": null,
   "id": "82c17ce6-0307-4119-b165-e7ff6a747c5a",
   "metadata": {},
   "outputs": [],
   "source": []
  }
 ],
 "metadata": {
  "kernelspec": {
   "display_name": "Python 3",
   "language": "python",
   "name": "python3"
  },
  "language_info": {
   "codemirror_mode": {
    "name": "ipython",
    "version": 3
   },
   "file_extension": ".py",
   "mimetype": "text/x-python",
   "name": "python",
   "nbconvert_exporter": "python",
   "pygments_lexer": "ipython3",
   "version": "3.12.5"
  }
 },
 "nbformat": 4,
 "nbformat_minor": 5
}
