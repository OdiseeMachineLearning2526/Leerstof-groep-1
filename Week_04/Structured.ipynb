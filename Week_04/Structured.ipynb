{
 "cells": [
  {
   "cell_type": "markdown",
   "id": "429d571c",
   "metadata": {},
   "source": [
    "# Neuraal netwerk oefening: Nintendo games\n",
    "\n",
    "In deze opgave gaan we een aantal eenvoudige neurale netwerken maken om de basisfunctionaliteit in te oefenen van Torch en Keras. Hierbij focussen we vooral op de processing stappen, het opstellen van de netwerkarchitectuur en de trainingsstap.\n",
    "Het is hierbij niet noodzakelijk om op zoek te gaan naar de beste architectuur.\n",
    "\n",
    "**Dien de opgave in door het te pushen naar de main branch op github en vergeet niet op de vragen te beantwoorden. Laat je output staan om eenvoudiger je resultaten te kunnen verifieren. Vergeet ook de vragen niet te beantwoorden**\n",
    "\n",
    "## Downloaden en inladen data\n",
    "\n",
    "Schrijf in onderstaande cell alle uit te voeren imports die nodig zijn doorheen deze notebook."
   ]
  },
  {
   "cell_type": "code",
   "execution_count": 1,
   "id": "779c1a4c",
   "metadata": {},
   "outputs": [],
   "source": [
    "# Schrijf alle imports in deze blok\n",
    "import pandas as pd"
   ]
  },
  {
   "cell_type": "code",
   "execution_count": null,
   "id": "1e265ba4",
   "metadata": {},
   "outputs": [],
   "source": [
    "!pip install kagglehub"
   ]
  },
  {
   "cell_type": "markdown",
   "id": "f63aac1d",
   "metadata": {},
   "source": [
    "In deze opgave maken we gebruik van een dataset over Nintendo games.\n",
    "We gaan deze dataset gebruiken om de gebrukersscore te voorspellen die een bepaald spel gaat behalen.\n",
    "\n",
    "Maak gebruik van de tensorflow get_file om de volgende file te downloaden:\n",
    "* https://www.kaggle.com/datasets/joebeachcapital/nintendo-games\n",
    "\n",
    "Dit is een dataset van kaggle dus gebruik de opendatasets library zoals gezien in data science"
   ]
  },
  {
   "cell_type": "code",
   "execution_count": 2,
   "id": "b4eacc19",
   "metadata": {},
   "outputs": [],
   "source": [
    "# downloaden datasets\n",
    "import kagglehub\n",
    "\n",
    "path = kagglehub.dataset_download('joebeachcapital/nintendo-games') # het path is waar de dataset gedownload is\n",
    "\n",
    "df = pd.read_csv(f\"{path}/NintendoGames.csv\")"
   ]
  },
  {
   "cell_type": "markdown",
   "id": "b0a4ddb8",
   "metadata": {},
   "source": [
    "Lees deze datasets in (met behulp van panda) en als dataframe.\n",
    "Print de eerste 5 rijen uit.\n",
    "\n",
    "**Welke kolommen zijn in deze dataset de features en welke de targets/labels? Welke kolommen zou je niet gebruiken en waarom?**\n",
    "Maak lijsten aan voor de namen van de feature-kolommen en label kolom."
   ]
  },
  {
   "cell_type": "markdown",
   "id": "d7e2249a",
   "metadata": {},
   "source": [
    "Antwoord: ..."
   ]
  },
  {
   "cell_type": "code",
   "execution_count": 3,
   "id": "95bd63b0",
   "metadata": {},
   "outputs": [
    {
     "data": {
      "text/html": [
       "<div>\n",
       "<style scoped>\n",
       "    .dataframe tbody tr th:only-of-type {\n",
       "        vertical-align: middle;\n",
       "    }\n",
       "\n",
       "    .dataframe tbody tr th {\n",
       "        vertical-align: top;\n",
       "    }\n",
       "\n",
       "    .dataframe thead th {\n",
       "        text-align: right;\n",
       "    }\n",
       "</style>\n",
       "<table border=\"1\" class=\"dataframe\">\n",
       "  <thead>\n",
       "    <tr style=\"text-align: right;\">\n",
       "      <th></th>\n",
       "      <th>meta_score</th>\n",
       "      <th>title</th>\n",
       "      <th>platform</th>\n",
       "      <th>date</th>\n",
       "      <th>user_score</th>\n",
       "      <th>link</th>\n",
       "      <th>esrb_rating</th>\n",
       "      <th>developers</th>\n",
       "      <th>genres</th>\n",
       "    </tr>\n",
       "  </thead>\n",
       "  <tbody>\n",
       "    <tr>\n",
       "      <th>0</th>\n",
       "      <td>NaN</td>\n",
       "      <td>Super Mario RPG</td>\n",
       "      <td>Switch</td>\n",
       "      <td>Nov 17, 2023</td>\n",
       "      <td>NaN</td>\n",
       "      <td>/game/switch/super-mario-rpg</td>\n",
       "      <td>E</td>\n",
       "      <td>['Nintendo']</td>\n",
       "      <td>['Role-Playing', 'Japanese-Style']</td>\n",
       "    </tr>\n",
       "    <tr>\n",
       "      <th>1</th>\n",
       "      <td>NaN</td>\n",
       "      <td>WarioWare: Move It!</td>\n",
       "      <td>Switch</td>\n",
       "      <td>Nov 3, 2023</td>\n",
       "      <td>NaN</td>\n",
       "      <td>/game/switch/warioware-move-it!</td>\n",
       "      <td>RP</td>\n",
       "      <td>['Intelligent Systems']</td>\n",
       "      <td>['Miscellaneous', 'Party / Minigame']</td>\n",
       "    </tr>\n",
       "    <tr>\n",
       "      <th>2</th>\n",
       "      <td>NaN</td>\n",
       "      <td>Super Mario Bros. Wonder</td>\n",
       "      <td>Switch</td>\n",
       "      <td>Oct 20, 2023</td>\n",
       "      <td>NaN</td>\n",
       "      <td>/game/switch/super-mario-bros-wonder</td>\n",
       "      <td>E</td>\n",
       "      <td>['Nintendo']</td>\n",
       "      <td>['Action', 'Platformer', '2D']</td>\n",
       "    </tr>\n",
       "    <tr>\n",
       "      <th>3</th>\n",
       "      <td>NaN</td>\n",
       "      <td>Detective Pikachu Returns</td>\n",
       "      <td>Switch</td>\n",
       "      <td>Oct 6, 2023</td>\n",
       "      <td>NaN</td>\n",
       "      <td>/game/switch/detective-pikachu-returns</td>\n",
       "      <td>NaN</td>\n",
       "      <td>['Creatures Inc.']</td>\n",
       "      <td>['Adventure', '3D', 'Third-Person']</td>\n",
       "    </tr>\n",
       "    <tr>\n",
       "      <th>4</th>\n",
       "      <td>NaN</td>\n",
       "      <td>Fae Farm</td>\n",
       "      <td>Switch</td>\n",
       "      <td>Sep 8, 2023</td>\n",
       "      <td>NaN</td>\n",
       "      <td>/game/switch/fae-farm</td>\n",
       "      <td>E10+</td>\n",
       "      <td>['Phoenix Labs']</td>\n",
       "      <td>['Simulation', 'Virtual', 'Virtual Life']</td>\n",
       "    </tr>\n",
       "  </tbody>\n",
       "</table>\n",
       "</div>"
      ],
      "text/plain": [
       "   meta_score                      title platform          date  user_score  \\\n",
       "0         NaN            Super Mario RPG   Switch  Nov 17, 2023         NaN   \n",
       "1         NaN        WarioWare: Move It!   Switch   Nov 3, 2023         NaN   \n",
       "2         NaN   Super Mario Bros. Wonder   Switch  Oct 20, 2023         NaN   \n",
       "3         NaN  Detective Pikachu Returns   Switch   Oct 6, 2023         NaN   \n",
       "4         NaN                   Fae Farm   Switch   Sep 8, 2023         NaN   \n",
       "\n",
       "                                     link esrb_rating  \\\n",
       "0            /game/switch/super-mario-rpg           E   \n",
       "1         /game/switch/warioware-move-it!          RP   \n",
       "2    /game/switch/super-mario-bros-wonder           E   \n",
       "3  /game/switch/detective-pikachu-returns         NaN   \n",
       "4                   /game/switch/fae-farm        E10+   \n",
       "\n",
       "                developers                                     genres  \n",
       "0             ['Nintendo']         ['Role-Playing', 'Japanese-Style']  \n",
       "1  ['Intelligent Systems']      ['Miscellaneous', 'Party / Minigame']  \n",
       "2             ['Nintendo']             ['Action', 'Platformer', '2D']  \n",
       "3       ['Creatures Inc.']        ['Adventure', '3D', 'Third-Person']  \n",
       "4         ['Phoenix Labs']  ['Simulation', 'Virtual', 'Virtual Life']  "
      ]
     },
     "metadata": {},
     "output_type": "display_data"
    },
    {
     "name": "stdout",
     "output_type": "stream",
     "text": [
      "<class 'pandas.core.frame.DataFrame'>\n",
      "RangeIndex: 1094 entries, 0 to 1093\n",
      "Data columns (total 9 columns):\n",
      " #   Column       Non-Null Count  Dtype  \n",
      "---  ------       --------------  -----  \n",
      " 0   meta_score   709 non-null    float64\n",
      " 1   title        1094 non-null   object \n",
      " 2   platform     1094 non-null   object \n",
      " 3   date         1094 non-null   object \n",
      " 4   user_score   856 non-null    float64\n",
      " 5   link         1094 non-null   object \n",
      " 6   esrb_rating  972 non-null    object \n",
      " 7   developers   1091 non-null   object \n",
      " 8   genres       1094 non-null   object \n",
      "dtypes: float64(2), object(7)\n",
      "memory usage: 77.0+ KB\n"
     ]
    }
   ],
   "source": [
    "display(df.head())\n",
    "df.info()"
   ]
  },
  {
   "cell_type": "markdown",
   "id": "fd85b843",
   "metadata": {},
   "source": [
    "## Exploratory Data Analysis\n",
    "\n",
    "Bereken voor de dataset de volgende statistieken met behulp van pandas:\n",
    "* Hoeveel platformen zijn er aanwezig in de dataset\n",
    "* Hoeveel games hebben geen user-score? Drop deze rijen ook.\n",
    "* Maak een figuur om te tonen hoeveel games er ontwikkeld zijn voor elk platform.\n",
    "* Hoeveel null waarden zijn er per kolom? Vul de numerieke kolommen aan met 0 en de categorieke kolommen met 'unknown'.\n",
    "* Is de genres en developer kolom een string of een lijst? Zijn ze beide hetzelfde type? Hoe heb je dit gecontroleerd? Pas de kolommen met de apply-functie aan zodat beide kolommen een tekstveld zijn gesplitst door het ',' symbool.\n",
    "* Hoeveel unieke developers zijn er die nintendo games maken? Wat zijn de 5 developers die aan het meeste games gewerkt hebben? Maak hiervoor een figuur.\n",
    "\n",
    "\n",
    "**Antwoord vraag 5:**"
   ]
  },
  {
   "cell_type": "code",
   "execution_count": 4,
   "id": "e1e84193",
   "metadata": {
    "scrolled": true
   },
   "outputs": [
    {
     "data": {
      "text/plain": [
       "10"
      ]
     },
     "execution_count": 4,
     "metadata": {},
     "output_type": "execute_result"
    }
   ],
   "source": [
    "# Vraag 1\n",
    "df.platform.nunique()"
   ]
  },
  {
   "cell_type": "code",
   "execution_count": 5,
   "id": "d7dd9b9c",
   "metadata": {},
   "outputs": [
    {
     "name": "stdout",
     "output_type": "stream",
     "text": [
      "aantal nuns 238\n",
      "aantal rijen overgebleven 856\n"
     ]
    }
   ],
   "source": [
    "# Vraag 2\n",
    "nans = df.isna().user_score\n",
    "print('aantal nuns', nans.sum())\n",
    "df2 = df[~nans]\n",
    "print('aantal rijen overgebleven', len(df2))"
   ]
  },
  {
   "cell_type": "code",
   "execution_count": 6,
   "id": "0bcb18c7",
   "metadata": {},
   "outputs": [
    {
     "data": {
      "text/plain": [
       "<Axes: xlabel='platform'>"
      ]
     },
     "execution_count": 6,
     "metadata": {},
     "output_type": "execute_result"
    },
    {
     "data": {
      "image/png": "[encoded data removed]",
      "text/plain": [
       "<Figure size 640x480 with 1 Axes>"
      ]
     },
     "metadata": {},
     "output_type": "display_data"
    }
   ],
   "source": [
    "# Vraag 3\n",
    "df2.groupby('platform').size().plot.bar()"
   ]
  },
  {
   "cell_type": "code",
   "execution_count": 7,
   "id": "2c6cc844",
   "metadata": {},
   "outputs": [],
   "source": [
    "# Vraag 4\n",
    "df2.isna().sum()\n",
    "df3 = df2.fillna({'meta_score': 0, 'esrb_rating': 'unknown'})"
   ]
  },
  {
   "cell_type": "code",
   "execution_count": 8,
   "id": "2994a6e6",
   "metadata": {},
   "outputs": [
    {
     "name": "stdout",
     "output_type": "stream",
     "text": [
      "['Strategy', 'Real-Time', 'General'] <class 'str'>\n",
      "['Nintendo'] <class 'str'>\n"
     ]
    }
   ],
   "source": [
    "# Vraag 5\n",
    "print(df3.genres.iloc[0], type(df3.genres.iloc[0]))\n",
    "print(df3.developers.iloc[0], type(df3.developers.iloc[0]))\n",
    "\n",
    "df4 = df3.copy()\n",
    "df4.genres = df3.genres.str.strip(\"[]\").str.replace(\"'\", \"\", regex=False)\n",
    "df4.developers = df3.developers.str.strip(\"[]\").str.replace(\"'\", \"\", regex=False)"
   ]
  },
  {
   "cell_type": "code",
   "execution_count": 9,
   "id": "00ebf413",
   "metadata": {},
   "outputs": [
    {
     "name": "stdout",
     "output_type": "stream",
     "text": [
      "aantal unieke developers 181\n"
     ]
    },
    {
     "data": {
      "text/plain": [
       "<Axes: xlabel='developers'>"
      ]
     },
     "execution_count": 9,
     "metadata": {},
     "output_type": "execute_result"
    },
    {
     "data": {
      "image/png": "[encoded data removed]",
      "text/plain": [
       "<Figure size 640x480 with 1 Axes>"
      ]
     },
     "metadata": {},
     "output_type": "display_data"
    }
   ],
   "source": [
    "# Vraag 6\n",
    "tmp = df4.developers.str.split(', ').explode()\n",
    "print('aantal unieke developers', tmp.nunique())\n",
    "\n",
    "tmp.value_counts().head(5).plot.bar()"
   ]
  },
  {
   "cell_type": "markdown",
   "id": "cad9697e",
   "metadata": {},
   "source": [
    "## Preprocessing"
   ]
  },
  {
   "cell_type": "markdown",
   "id": "e07f4852",
   "metadata": {},
   "source": [
    "Voer nu de volgende stappen uit om de beschikbare data zo bruikbaar mogeljk te maken. **Gebruik de user_score als target.**\n",
    "* Splits de dataset in training en testdata. Gebruik 10% van de data als testdata. Tip: bekijk de sample functie in pandas. Zorg ervoor dat rijen met ontbrekende waarden niet gebruikt worden.\n",
    "* Maak een trainings- en testdataset aan gebruik makende van de Dataset klasse van PyTorch. Zorg er hierbij voor dat de volgende features gebruikt worden: platform, meta_score, esrb_rating, developers, genres. Natuurlijk moet het target ook meegegeven worden bij het aanmaken van de dataset. Zorg ervoor dat de nodige preprocessing stappen uitgevoerd worden:\n",
    "    * Maak nu de nodige preprocessing stappen aan voor de types data:\n",
    "        * numeriek -> normalisatie\n",
    "        * categoriek -> one-hot encoding\n",
    "        * tekst -> multi-hot encoding\n",
    "* Maak daarna Dataloaders aan en zorg er hierbij voor dat alle elementen geshuffeld worden, maak daarna batches van 4 elementen.\n",
    "\n",
    "**Vraag: Je hebt hiervoor het aantal unieke developers berekend. Kan je uit de figuur afleiden of dit aantal klopt? Hoe doe je dit? Verwijs hierbij naar de gemaakte figuur.**"
   ]
  },
  {
   "cell_type": "markdown",
   "id": "69fd781a",
   "metadata": {},
   "source": [
    "**Antwoord:**"
   ]
  },
  {
   "cell_type": "code",
   "execution_count": 10,
   "id": "4bd1382f-8f7f-4c66-bdf2-4f1838b1568f",
   "metadata": {},
   "outputs": [
    {
     "data": {
      "text/plain": [
       "Index(['meta_score', 'title', 'platform', 'date', 'user_score', 'link',\n",
       "       'esrb_rating', 'developers', 'genres'],\n",
       "      dtype='object')"
      ]
     },
     "execution_count": 10,
     "metadata": {},
     "output_type": "execute_result"
    }
   ],
   "source": [
    "df4.columns"
   ]
  },
  {
   "cell_type": "code",
   "execution_count": 16,
   "id": "b5fd064c-66b6-495d-9063-dc246eddd9ef",
   "metadata": {},
   "outputs": [
    {
     "name": "stderr",
     "output_type": "stream",
     "text": [
      "/opt/conda/lib/python3.10/site-packages/sklearn/feature_extraction/text.py:517: UserWarning: The parameter 'token_pattern' will not be used since 'tokenizer' is not None'\n",
      "  warnings.warn(\n"
     ]
    }
   ],
   "source": [
    "import torch\n",
    "import pandas as pd\n",
    "from torch.utils.data import Dataset, DataLoader\n",
    "from sklearn.preprocessing import OneHotEncoder, StandardScaler, FunctionTransformer\n",
    "from sklearn.feature_extraction.text import CountVectorizer\n",
    "\n",
    "from sklearn.pipeline import Pipeline\n",
    "from sklearn.compose import ColumnTransformer\n",
    "\n",
    "numeric_features = ['meta_score']\n",
    "categorical_features = ['platform', 'esrb_rating']\n",
    "tekst_features = ['developers', 'genres']\n",
    "\n",
    "numeric_pipeline = Pipeline(steps=[\n",
    "    ('scaler', StandardScaler())\n",
    "])\n",
    "\n",
    "categorical_pipeline = Pipeline(steps=[\n",
    "    ('encoder', OneHotEncoder(handle_unknown='ignore'))\n",
    "])\n",
    "\n",
    "text_pipeline = Pipeline(steps=[\n",
    "    ('flatten', FunctionTransformer(lambda x: x.iloc[:, 0].values, validate=False)),\n",
    "    ('encoder', CountVectorizer(tokenizer=lambda s: s.split(','))) # splits de developers op de komma -> tel elke developer\n",
    "])\n",
    "\n",
    "preprocessor = ColumnTransformer(transformers=[\n",
    "    ('num', numeric_pipeline, numeric_features),\n",
    "    ('cat', categorical_pipeline, categorical_features),\n",
    "    ('text', text_pipeline, tekst_features)\n",
    "])\n",
    "\n",
    "\n",
    "# dit bevat de preprocessing stappen dus heel sterk afhankelijk van de dataset waarmee je werkt\n",
    "class NintendoDataset(Dataset):\n",
    "    def __init__(self, dataframe, preprocessor=None, train=False):\n",
    "        X = dataframe.drop('user_score', axis=1)\n",
    "        y = dataframe['user_score']\n",
    "\n",
    "        if train:\n",
    "            preprocessor.fit(X)\n",
    "        X = preprocessor.transform(X).toarray()\n",
    "\n",
    "        self.X = torch.tensor(X, dtype=torch.float32)\n",
    "        self.y = torch.tensor(y.values, dtype=torch.long)\n",
    "        self.preprocessor = preprocessor\n",
    "        \n",
    "    def __len__(self):\n",
    "        return len(self.y)\n",
    "\n",
    "    def __getitem__(self, idx):\n",
    "        # deze functie return de rij met index idx\n",
    "        return self.X[idx], self.y[idx] # return inputs, labels\n",
    "\n",
    "nintendo_train = df4.sample(frac=0.9)\n",
    "nintendo_test = df4.drop(nintendo_train.index)\n",
    "\n",
    "dataset_train = NintendoDataset(nintendo_train, preprocessor, train=True)\n",
    "dataset_test = NintendoDataset(nintendo_test, dataset_train.preprocessor)\n",
    "\n",
    "dataloader_train = DataLoader(dataset_train, batch_size=32, shuffle=True)\n",
    "dataloader_test = DataLoader(dataset_test, batch_size=32, shuffle=False)"
   ]
  },
  {
   "cell_type": "markdown",
   "id": "fbcc8df6",
   "metadata": {},
   "source": [
    "## Modelling\n",
    "\n",
    "Maak nu met behulp van **Pytorch** de volgende modellen aan, train ze en evalueer ze aan de hand van de trainingsdata:\n",
    "* Lineaire regressie\n",
    "* Neuraal netwerk bestaande uit 1 hidden laag met 3 neuronen\n",
    "* Neuraal netwerk bestaande uit 3 hidden lagen met respectievelijk 10, 5 en 5 neuronen.\n",
    "* Neuraal netwerk bestaande uit 3 hidden lagen met respectievelijk 10, 5 en 5 neuronen met dropout.\n",
    "* Neuraal netwerk bestaande uit 3 hidden lagen met respectievelijk 10, 5 en 5 neuronen met L1 regularisatie.\n",
    "* Neuraal netwerk bestaande uit 3 hidden lagen met respectievelijk 10, 5 en 5 neuronen met L2 regularisatie.\n",
    "\n",
    "Maak zoveel mogelijk gebruik van functies om repititieve zaken te verbergen.\n",
    "Maak daarnaast ook gebruik van de **plot_loss** functie om de geschiedenis van het trainen te visualiseren.\n",
    "\n",
    "**Bespreek hieronder je observaties. Welke loss functie heb je gebruikt? Waarom heb je voor deze functie gekozen? Welke hyperparameters heb je uitgeprobeerd? Welk model werkt goed, welk niet? Welk is aan het overfitten, welk aan het underfitten? Bespreek de gebruikte parameters van de verschillende lagen van het laatste model. Waarom heb je de waarde gekozen voor die parameters?\n",
    "Verwijs hierbij naar de figuren en de behaalde loss-waarden voor de testdata.**"
   ]
  },
  {
   "cell_type": "markdown",
   "id": "e75f4904",
   "metadata": {},
   "source": [
    "Antwoord ..."
   ]
  },
  {
   "cell_type": "code",
   "execution_count": null,
   "id": "839e102e",
   "metadata": {},
   "outputs": [],
   "source": [
    "# Plot loss over epochs\n",
    "import torch\n",
    "import torch.nn as nn\n",
    "import torch.optim as optim\n",
    "\n",
    "def plot_loss(loss_history):\n",
    "    plt.plot(loss_history, label=\"Training Loss\")\n",
    "    plt.xlabel(\"Epochs\")\n",
    "    plt.ylabel(\"Loss\")\n",
    "    plt.legend()\n",
    "    plt.show()"
   ]
  },
  {
   "cell_type": "code",
   "execution_count": 18,
   "id": "e361a804-53ca-4d3f-ba64-db6957d48c67",
   "metadata": {},
   "outputs": [
    {
     "name": "stdout",
     "output_type": "stream",
     "text": [
      "torch.Size([32, 191]) torch.Size([32])\n",
      "torch.Size([32, 191]) torch.Size([32])\n"
     ]
    }
   ],
   "source": [
    "for inputs, labels in dataloader_train:\n",
    "    print(inputs.shape, labels.shape)\n",
    "    break\n",
    "\n",
    "inputs, labels = next(iter(dataloader_train)) # met next(iter()) haal je de eerste batch ook op\n",
    "print(inputs.shape, labels.shape)"
   ]
  },
  {
   "cell_type": "code",
   "execution_count": null,
   "id": "794c919e",
   "metadata": {},
   "outputs": [],
   "source": [
    "\n",
    "# Neuraal netwerk bestaande uit 3 hidden lagen met respectievelijk 10, 5 en 5 neuronen met dropout.\n",
    "\n",
    "model = nn.Sequential(\n",
    "    nn.Linear(191, 10),\n",
    "    nn.ReLU(),\n",
    "    nn.Dropout(0.2),\n",
    "    nn.Linear(10, 5),\n",
    "    nn.ReLU(),\n",
    "    nn.Dropout(0.2),\n",
    "    nn.Linear(5, 5),\n",
    "    nn.ReLU(),\n",
    "    nn.Dropout(0.2),\n",
    "    nn.Linear(5, 1)\n",
    ")\n",
    "\n",
    "#L1 regularisatie: mseloss + l1loss voor backwardspropagation\n",
    "#L2 regularisatie: weight decay in adam optimizer"
   ]
  },
  {
   "cell_type": "code",
   "execution_count": null,
   "id": "507d41e7",
   "metadata": {},
   "outputs": [],
   "source": []
  },
  {
   "cell_type": "code",
   "execution_count": null,
   "id": "967e0d28",
   "metadata": {},
   "outputs": [],
   "source": []
  },
  {
   "cell_type": "code",
   "execution_count": null,
   "id": "48892e2b",
   "metadata": {},
   "outputs": [],
   "source": []
  },
  {
   "cell_type": "code",
   "execution_count": null,
   "id": "9c72a566",
   "metadata": {},
   "outputs": [],
   "source": []
  },
  {
   "cell_type": "code",
   "execution_count": null,
   "id": "31551de4",
   "metadata": {},
   "outputs": [],
   "source": []
  },
  {
   "cell_type": "code",
   "execution_count": null,
   "id": "82c17ce6-0307-4119-b165-e7ff6a747c5a",
   "metadata": {},
   "outputs": [],
   "source": []
  }
 ],
 "metadata": {
  "kernelspec": {
   "display_name": "Python 3 (ipykernel)",
   "language": "python",
   "name": "python3"
  },
  "language_info": {
   "codemirror_mode": {
    "name": "ipython",
    "version": 3
   },
   "file_extension": ".py",
   "mimetype": "text/x-python",
   "name": "python",
   "nbconvert_exporter": "python",
   "pygments_lexer": "ipython3",
   "version": "3.10.13"
  }
 },
 "nbformat": 4,
 "nbformat_minor": 5
}
